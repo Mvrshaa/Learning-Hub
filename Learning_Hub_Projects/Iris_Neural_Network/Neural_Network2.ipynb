{
  "nbformat": 4,
  "nbformat_minor": 0,
  "metadata": {
    "colab": {
      "provenance": []
    },
    "kernelspec": {
      "name": "python3",
      "display_name": "Python 3"
    },
    "language_info": {
      "name": "python"
    }
  },
  "cells": [
    {
      "cell_type": "code",
      "source": [
        "from google.colab import drive\n",
        "drive.mount(\"/content/drive\")"
      ],
      "metadata": {
        "id": "25aYuWb2daXk"
      },
      "execution_count": null,
      "outputs": []
    },
    {
      "cell_type": "code",
      "source": [
        "# import libraries\n",
        "import pandas as pd\n",
        "import numpy as np\n",
        "from numpy import asarray\n",
        "from sklearn.preprocessing import MinMaxScaler, OneHotEncoder, LabelEncoder\n",
        "from sklearn.model_selection import train_test_split\n",
        "from keras.models import Sequential\n",
        "from keras.layers import Dense"
      ],
      "metadata": {
        "id": "nCQiT8UqOdFQ"
      },
      "execution_count": null,
      "outputs": []
    },
    {
      "cell_type": "code",
      "execution_count": null,
      "metadata": {
        "id": "vFE1ClkGIsef",
        "colab": {
          "base_uri": "https://localhost:8080/",
          "height": 206
        },
        "outputId": "5d0a7629-6803-4375-d782-9497161eaa84"
      },
      "outputs": [
        {
          "output_type": "execute_result",
          "data": {
            "text/plain": [
              "     0    1    2    3            4\n",
              "0  5.1  3.5  1.4  0.2  Iris-setosa\n",
              "1  4.9  3.0  1.4  0.2  Iris-setosa\n",
              "2  4.7  3.2  1.3  0.2  Iris-setosa\n",
              "3  4.6  3.1  1.5  0.2  Iris-setosa\n",
              "4  5.0  3.6  1.4  0.2  Iris-setosa"
            ],
            "text/html": [
              "\n",
              "  <div id=\"df-b4e5fbb9-6011-45f2-a48f-15e80426e292\">\n",
              "    <div class=\"colab-df-container\">\n",
              "      <div>\n",
              "<style scoped>\n",
              "    .dataframe tbody tr th:only-of-type {\n",
              "        vertical-align: middle;\n",
              "    }\n",
              "\n",
              "    .dataframe tbody tr th {\n",
              "        vertical-align: top;\n",
              "    }\n",
              "\n",
              "    .dataframe thead th {\n",
              "        text-align: right;\n",
              "    }\n",
              "</style>\n",
              "<table border=\"1\" class=\"dataframe\">\n",
              "  <thead>\n",
              "    <tr style=\"text-align: right;\">\n",
              "      <th></th>\n",
              "      <th>0</th>\n",
              "      <th>1</th>\n",
              "      <th>2</th>\n",
              "      <th>3</th>\n",
              "      <th>4</th>\n",
              "    </tr>\n",
              "  </thead>\n",
              "  <tbody>\n",
              "    <tr>\n",
              "      <th>0</th>\n",
              "      <td>5.1</td>\n",
              "      <td>3.5</td>\n",
              "      <td>1.4</td>\n",
              "      <td>0.2</td>\n",
              "      <td>Iris-setosa</td>\n",
              "    </tr>\n",
              "    <tr>\n",
              "      <th>1</th>\n",
              "      <td>4.9</td>\n",
              "      <td>3.0</td>\n",
              "      <td>1.4</td>\n",
              "      <td>0.2</td>\n",
              "      <td>Iris-setosa</td>\n",
              "    </tr>\n",
              "    <tr>\n",
              "      <th>2</th>\n",
              "      <td>4.7</td>\n",
              "      <td>3.2</td>\n",
              "      <td>1.3</td>\n",
              "      <td>0.2</td>\n",
              "      <td>Iris-setosa</td>\n",
              "    </tr>\n",
              "    <tr>\n",
              "      <th>3</th>\n",
              "      <td>4.6</td>\n",
              "      <td>3.1</td>\n",
              "      <td>1.5</td>\n",
              "      <td>0.2</td>\n",
              "      <td>Iris-setosa</td>\n",
              "    </tr>\n",
              "    <tr>\n",
              "      <th>4</th>\n",
              "      <td>5.0</td>\n",
              "      <td>3.6</td>\n",
              "      <td>1.4</td>\n",
              "      <td>0.2</td>\n",
              "      <td>Iris-setosa</td>\n",
              "    </tr>\n",
              "  </tbody>\n",
              "</table>\n",
              "</div>\n",
              "      <button class=\"colab-df-convert\" onclick=\"convertToInteractive('df-b4e5fbb9-6011-45f2-a48f-15e80426e292')\"\n",
              "              title=\"Convert this dataframe to an interactive table.\"\n",
              "              style=\"display:none;\">\n",
              "        \n",
              "  <svg xmlns=\"http://www.w3.org/2000/svg\" height=\"24px\"viewBox=\"0 0 24 24\"\n",
              "       width=\"24px\">\n",
              "    <path d=\"M0 0h24v24H0V0z\" fill=\"none\"/>\n",
              "    <path d=\"M18.56 5.44l.94 2.06.94-2.06 2.06-.94-2.06-.94-.94-2.06-.94 2.06-2.06.94zm-11 1L8.5 8.5l.94-2.06 2.06-.94-2.06-.94L8.5 2.5l-.94 2.06-2.06.94zm10 10l.94 2.06.94-2.06 2.06-.94-2.06-.94-.94-2.06-.94 2.06-2.06.94z\"/><path d=\"M17.41 7.96l-1.37-1.37c-.4-.4-.92-.59-1.43-.59-.52 0-1.04.2-1.43.59L10.3 9.45l-7.72 7.72c-.78.78-.78 2.05 0 2.83L4 21.41c.39.39.9.59 1.41.59.51 0 1.02-.2 1.41-.59l7.78-7.78 2.81-2.81c.8-.78.8-2.07 0-2.86zM5.41 20L4 18.59l7.72-7.72 1.47 1.35L5.41 20z\"/>\n",
              "  </svg>\n",
              "      </button>\n",
              "      \n",
              "  <style>\n",
              "    .colab-df-container {\n",
              "      display:flex;\n",
              "      flex-wrap:wrap;\n",
              "      gap: 12px;\n",
              "    }\n",
              "\n",
              "    .colab-df-convert {\n",
              "      background-color: #E8F0FE;\n",
              "      border: none;\n",
              "      border-radius: 50%;\n",
              "      cursor: pointer;\n",
              "      display: none;\n",
              "      fill: #1967D2;\n",
              "      height: 32px;\n",
              "      padding: 0 0 0 0;\n",
              "      width: 32px;\n",
              "    }\n",
              "\n",
              "    .colab-df-convert:hover {\n",
              "      background-color: #E2EBFA;\n",
              "      box-shadow: 0px 1px 2px rgba(60, 64, 67, 0.3), 0px 1px 3px 1px rgba(60, 64, 67, 0.15);\n",
              "      fill: #174EA6;\n",
              "    }\n",
              "\n",
              "    [theme=dark] .colab-df-convert {\n",
              "      background-color: #3B4455;\n",
              "      fill: #D2E3FC;\n",
              "    }\n",
              "\n",
              "    [theme=dark] .colab-df-convert:hover {\n",
              "      background-color: #434B5C;\n",
              "      box-shadow: 0px 1px 3px 1px rgba(0, 0, 0, 0.15);\n",
              "      filter: drop-shadow(0px 1px 2px rgba(0, 0, 0, 0.3));\n",
              "      fill: #FFFFFF;\n",
              "    }\n",
              "  </style>\n",
              "\n",
              "      <script>\n",
              "        const buttonEl =\n",
              "          document.querySelector('#df-b4e5fbb9-6011-45f2-a48f-15e80426e292 button.colab-df-convert');\n",
              "        buttonEl.style.display =\n",
              "          google.colab.kernel.accessAllowed ? 'block' : 'none';\n",
              "\n",
              "        async function convertToInteractive(key) {\n",
              "          const element = document.querySelector('#df-b4e5fbb9-6011-45f2-a48f-15e80426e292');\n",
              "          const dataTable =\n",
              "            await google.colab.kernel.invokeFunction('convertToInteractive',\n",
              "                                                     [key], {});\n",
              "          if (!dataTable) return;\n",
              "\n",
              "          const docLinkHtml = 'Like what you see? Visit the ' +\n",
              "            '<a target=\"_blank\" href=https://colab.research.google.com/notebooks/data_table.ipynb>data table notebook</a>'\n",
              "            + ' to learn more about interactive tables.';\n",
              "          element.innerHTML = '';\n",
              "          dataTable['output_type'] = 'display_data';\n",
              "          await google.colab.output.renderOutput(dataTable, element);\n",
              "          const docLink = document.createElement('div');\n",
              "          docLink.innerHTML = docLinkHtml;\n",
              "          element.appendChild(docLink);\n",
              "        }\n",
              "      </script>\n",
              "    </div>\n",
              "  </div>\n",
              "  "
            ]
          },
          "metadata": {},
          "execution_count": 70
        }
      ],
      "source": [
        "# Load the Iris dataset\n",
        "path=\"/content/drive/MyDrive/Dataset/Iris.csv\"\n",
        "df = pd.read_csv(path, delimiter=';', header=None)\n",
        "df.head(5)"
      ]
    },
    {
      "cell_type": "code",
      "source": [
        "# Extract the input features and target variable\n",
        "X = df.iloc[:, :-1].values\n",
        "y = df.iloc[:, -1].values"
      ],
      "metadata": {
        "id": "v7bBGk9gSpwL"
      },
      "execution_count": null,
      "outputs": []
    },
    {
      "cell_type": "code",
      "source": [
        "# Normalize the input values using max-min normalization\n",
        "scaler = MinMaxScaler()\n",
        "X_normalized = scaler.fit_transform(X)\n",
        "print(X_normalized[:10])"
      ],
      "metadata": {
        "id": "eolh4GIMvL9l",
        "colab": {
          "base_uri": "https://localhost:8080/"
        },
        "outputId": "4d99cbe0-b82b-48d2-a573-254c0ccba51d"
      },
      "execution_count": null,
      "outputs": [
        {
          "output_type": "stream",
          "name": "stdout",
          "text": [
            "[[0.22222222 0.625      0.06779661 0.04166667]\n",
            " [0.16666667 0.41666667 0.06779661 0.04166667]\n",
            " [0.11111111 0.5        0.05084746 0.04166667]\n",
            " [0.08333333 0.45833333 0.08474576 0.04166667]\n",
            " [0.19444444 0.66666667 0.06779661 0.04166667]\n",
            " [0.30555556 0.79166667 0.11864407 0.125     ]\n",
            " [0.08333333 0.58333333 0.06779661 0.08333333]\n",
            " [0.19444444 0.58333333 0.08474576 0.04166667]\n",
            " [0.02777778 0.375      0.06779661 0.04166667]\n",
            " [0.16666667 0.45833333 0.08474576 0.        ]]\n"
          ]
        }
      ]
    },
    {
      "cell_type": "code",
      "source": [
        "print(df.iloc[:, -1].unique())"
      ],
      "metadata": {
        "colab": {
          "base_uri": "https://localhost:8080/"
        },
        "id": "1ET07L_DSsEV",
        "outputId": "9f5620be-100d-4770-92f0-fffb3002541a"
      },
      "execution_count": null,
      "outputs": [
        {
          "output_type": "stream",
          "name": "stdout",
          "text": [
            "['Iris-setosa' 'Iris-versicolor' 'Iris-virginica']\n"
          ]
        }
      ]
    },
    {
      "cell_type": "code",
      "source": [
        "encoder = OneHotEncoder()\n",
        "\n",
        "y_encoded=  encoder.fit_transform(df.iloc[:, -1:].values).toarray()\n",
        "print(y_encoded[:10])\n",
        "#y_encoded_df = pd.DataFrame(y_encoded)"
      ],
      "metadata": {
        "colab": {
          "base_uri": "https://localhost:8080/"
        },
        "id": "jKhwILTJe-Ws",
        "outputId": "258c95d3-432a-4526-eed9-69b06e63703b"
      },
      "execution_count": null,
      "outputs": [
        {
          "output_type": "stream",
          "name": "stdout",
          "text": [
            "[[1. 0. 0.]\n",
            " [1. 0. 0.]\n",
            " [1. 0. 0.]\n",
            " [1. 0. 0.]\n",
            " [1. 0. 0.]\n",
            " [1. 0. 0.]\n",
            " [1. 0. 0.]\n",
            " [1. 0. 0.]\n",
            " [1. 0. 0.]\n",
            " [1. 0. 0.]\n",
            " [1. 0. 0.]\n",
            " [1. 0. 0.]\n",
            " [1. 0. 0.]\n",
            " [1. 0. 0.]\n",
            " [1. 0. 0.]\n",
            " [1. 0. 0.]\n",
            " [1. 0. 0.]\n",
            " [1. 0. 0.]\n",
            " [1. 0. 0.]\n",
            " [1. 0. 0.]]\n"
          ]
        }
      ]
    },
    {
      "cell_type": "code",
      "source": [
        "# Convert the normalized data and encoded features to DataFrames\n",
        "X_normalized_df = pd.DataFrame(X_normalized)\n",
        "y_encoded_df = pd.DataFrame(y_encoded)\n",
        "\n",
        "# Concatenate the normalized data and encoded features horizontally\n",
        "df1 = pd.concat([X_normalized_df, y_encoded_df], axis=1)\n",
        "\n",
        "# Print the merged data\n",
        "print(df1)"
      ],
      "metadata": {
        "colab": {
          "base_uri": "https://localhost:8080/"
        },
        "id": "CUrBSlnVV9eD",
        "outputId": "9759f541-ea4c-4e2a-da21-62b1145fe8c9"
      },
      "execution_count": null,
      "outputs": [
        {
          "output_type": "stream",
          "name": "stdout",
          "text": [
            "            0         1         2         3    0    1    2\n",
            "0    0.222222  0.625000  0.067797  0.041667  1.0  0.0  0.0\n",
            "1    0.166667  0.416667  0.067797  0.041667  1.0  0.0  0.0\n",
            "2    0.111111  0.500000  0.050847  0.041667  1.0  0.0  0.0\n",
            "3    0.083333  0.458333  0.084746  0.041667  1.0  0.0  0.0\n",
            "4    0.194444  0.666667  0.067797  0.041667  1.0  0.0  0.0\n",
            "..        ...       ...       ...       ...  ...  ...  ...\n",
            "145  0.666667  0.416667  0.711864  0.916667  0.0  0.0  1.0\n",
            "146  0.555556  0.208333  0.677966  0.750000  0.0  0.0  1.0\n",
            "147  0.611111  0.416667  0.711864  0.791667  0.0  0.0  1.0\n",
            "148  0.527778  0.583333  0.745763  0.916667  0.0  0.0  1.0\n",
            "149  0.444444  0.416667  0.694915  0.708333  0.0  0.0  1.0\n",
            "\n",
            "[150 rows x 7 columns]\n"
          ]
        }
      ]
    },
    {
      "cell_type": "code",
      "source": [
        "df1=df1.iloc[np.random.permutation(len(df1))]\n",
        "print(df1.head(10))"
      ],
      "metadata": {
        "colab": {
          "base_uri": "https://localhost:8080/"
        },
        "id": "tWp1GMY_XCBP",
        "outputId": "ff9146e4-67b3-4d42-9574-697d9403677f"
      },
      "execution_count": null,
      "outputs": [
        {
          "output_type": "stream",
          "name": "stdout",
          "text": [
            "            0         1         2         3    0    1    2\n",
            "120  0.722222  0.500000  0.796610  0.916667  0.0  0.0  1.0\n",
            "89   0.333333  0.208333  0.508475  0.500000  0.0  1.0  0.0\n",
            "43   0.194444  0.625000  0.101695  0.208333  1.0  0.0  0.0\n",
            "57   0.166667  0.166667  0.389831  0.375000  0.0  1.0  0.0\n",
            "69   0.361111  0.208333  0.491525  0.416667  0.0  1.0  0.0\n",
            "37   0.166667  0.458333  0.084746  0.000000  1.0  0.0  0.0\n",
            "23   0.222222  0.541667  0.118644  0.166667  1.0  0.0  0.0\n",
            "141  0.722222  0.458333  0.694915  0.916667  0.0  0.0  1.0\n",
            "3    0.083333  0.458333  0.084746  0.041667  1.0  0.0  0.0\n",
            "123  0.555556  0.291667  0.661017  0.708333  0.0  0.0  1.0\n"
          ]
        }
      ]
    },
    {
      "cell_type": "code",
      "source": [
        "#print(df1.iloc[:, -1].unique())"
      ],
      "metadata": {
        "colab": {
          "base_uri": "https://localhost:8080/"
        },
        "id": "YyTc0245lvew",
        "outputId": "dd51636a-e58a-4521-8d34-6b9ff72caa8f"
      },
      "execution_count": null,
      "outputs": [
        {
          "output_type": "stream",
          "name": "stdout",
          "text": [
            "[1. 0.]\n"
          ]
        }
      ]
    },
    {
      "cell_type": "code",
      "source": [
        "# Split the dataset into training/validation/test sets\n",
        "X_train, X_test, y_train, y_test = train_test_split(X_normalized, y_encoded, test_size=0.2, random_state=42)\n",
        "X_train, X_val, y_train, y_val = train_test_split(X_train, y_train, test_size=0.2, random_state=42)\n",
        "print(X_train.shape)\n",
        "print(X_test.shape)\n",
        "print(X_val.shape)"
      ],
      "metadata": {
        "colab": {
          "base_uri": "https://localhost:8080/"
        },
        "id": "zFPu0n4kWiX-",
        "outputId": "72b05d1a-ed25-49d0-a8d1-355d78f0d026"
      },
      "execution_count": null,
      "outputs": [
        {
          "output_type": "stream",
          "name": "stdout",
          "text": [
            "(96, 4)\n",
            "(30, 4)\n",
            "(24, 4)\n"
          ]
        }
      ]
    },
    {
      "cell_type": "code",
      "source": [
        "# Construct the neural network\n",
        "#Neural network module\n",
        "# Construct the neural network\n",
        "model = Sequential()\n",
        "model.add(Dense(20, activation='relu', input_shape=(4,)))\n",
        "model.add(Dense(3, activation='softmax'))\n",
        "\n",
        "# Compile the model\n",
        "model.compile(loss='mean_squared_error', optimizer='adam')"
      ],
      "metadata": {
        "id": "JD0kO2LovZN-"
      },
      "execution_count": null,
      "outputs": []
    },
    {
      "cell_type": "code",
      "source": [
        "# Train the neural network on the prepared Iris dataset\n",
        "epochs = 4\n",
        "for epoch in range(epochs):\n",
        "    history = model.fit(X_train, y_train, validation_data=(X_val, y_val), batch_size=10, epochs=1, verbose=0)\n",
        "    train_loss = history.history['loss'][0]\n",
        "    val_loss = history.history['val_loss'][0]\n",
        "    print(f\"Epoch {epoch+1}/{epochs} - Training Loss: {train_loss:.4f} - Validation Loss: {val_loss:.4f}\")\n",
        "\n",
        "# Evaluate the model on the test set\n",
        "test_loss = model.evaluate(X_test, y_test)\n",
        "print(f\"Test Loss: {test_loss:.4f}\")\n"
      ],
      "metadata": {
        "colab": {
          "base_uri": "https://localhost:8080/"
        },
        "id": "UcX2YZLbTr3j",
        "outputId": "163983d4-a561-418b-f1af-987b134a7e9e"
      },
      "execution_count": null,
      "outputs": [
        {
          "output_type": "stream",
          "name": "stdout",
          "text": [
            "Epoch 1/100 - Training Loss: 0.1680 - Validation Loss: 0.1910\n",
            "Epoch 2/100 - Training Loss: 0.1654 - Validation Loss: 0.1894\n",
            "Epoch 3/100 - Training Loss: 0.1628 - Validation Loss: 0.1870\n",
            "Epoch 4/100 - Training Loss: 0.1601 - Validation Loss: 0.1849\n",
            "Epoch 5/100 - Training Loss: 0.1573 - Validation Loss: 0.1822\n",
            "Epoch 6/100 - Training Loss: 0.1548 - Validation Loss: 0.1797\n",
            "Epoch 7/100 - Training Loss: 0.1520 - Validation Loss: 0.1779\n",
            "Epoch 8/100 - Training Loss: 0.1494 - Validation Loss: 0.1756\n",
            "Epoch 9/100 - Training Loss: 0.1468 - Validation Loss: 0.1729\n",
            "Epoch 10/100 - Training Loss: 0.1443 - Validation Loss: 0.1712\n",
            "Epoch 11/100 - Training Loss: 0.1418 - Validation Loss: 0.1689\n",
            "Epoch 12/100 - Training Loss: 0.1393 - Validation Loss: 0.1669\n",
            "Epoch 13/100 - Training Loss: 0.1369 - Validation Loss: 0.1644\n",
            "Epoch 14/100 - Training Loss: 0.1348 - Validation Loss: 0.1616\n",
            "Epoch 15/100 - Training Loss: 0.1326 - Validation Loss: 0.1593\n",
            "Epoch 16/100 - Training Loss: 0.1305 - Validation Loss: 0.1577\n",
            "Epoch 17/100 - Training Loss: 0.1284 - Validation Loss: 0.1557\n",
            "Epoch 18/100 - Training Loss: 0.1264 - Validation Loss: 0.1537\n",
            "Epoch 19/100 - Training Loss: 0.1246 - Validation Loss: 0.1518\n",
            "Epoch 20/100 - Training Loss: 0.1229 - Validation Loss: 0.1494\n",
            "Epoch 21/100 - Training Loss: 0.1211 - Validation Loss: 0.1484\n",
            "Epoch 22/100 - Training Loss: 0.1195 - Validation Loss: 0.1468\n",
            "Epoch 23/100 - Training Loss: 0.1180 - Validation Loss: 0.1449\n",
            "Epoch 24/100 - Training Loss: 0.1165 - Validation Loss: 0.1430\n",
            "Epoch 25/100 - Training Loss: 0.1151 - Validation Loss: 0.1415\n",
            "Epoch 26/100 - Training Loss: 0.1138 - Validation Loss: 0.1400\n",
            "Epoch 27/100 - Training Loss: 0.1126 - Validation Loss: 0.1378\n",
            "Epoch 28/100 - Training Loss: 0.1114 - Validation Loss: 0.1362\n",
            "Epoch 29/100 - Training Loss: 0.1105 - Validation Loss: 0.1341\n",
            "Epoch 30/100 - Training Loss: 0.1090 - Validation Loss: 0.1336\n",
            "Epoch 31/100 - Training Loss: 0.1081 - Validation Loss: 0.1330\n",
            "Epoch 32/100 - Training Loss: 0.1071 - Validation Loss: 0.1311\n",
            "Epoch 33/100 - Training Loss: 0.1061 - Validation Loss: 0.1310\n",
            "Epoch 34/100 - Training Loss: 0.1052 - Validation Loss: 0.1293\n",
            "Epoch 35/100 - Training Loss: 0.1042 - Validation Loss: 0.1285\n",
            "Epoch 36/100 - Training Loss: 0.1034 - Validation Loss: 0.1277\n",
            "Epoch 37/100 - Training Loss: 0.1027 - Validation Loss: 0.1252\n",
            "Epoch 38/100 - Training Loss: 0.1016 - Validation Loss: 0.1244\n",
            "Epoch 39/100 - Training Loss: 0.1009 - Validation Loss: 0.1232\n",
            "Epoch 40/100 - Training Loss: 0.1001 - Validation Loss: 0.1229\n",
            "Epoch 41/100 - Training Loss: 0.0994 - Validation Loss: 0.1213\n",
            "Epoch 42/100 - Training Loss: 0.0986 - Validation Loss: 0.1202\n",
            "Epoch 43/100 - Training Loss: 0.0978 - Validation Loss: 0.1197\n",
            "Epoch 44/100 - Training Loss: 0.0973 - Validation Loss: 0.1198\n",
            "Epoch 45/100 - Training Loss: 0.0964 - Validation Loss: 0.1180\n",
            "Epoch 46/100 - Training Loss: 0.0957 - Validation Loss: 0.1170\n",
            "Epoch 47/100 - Training Loss: 0.0951 - Validation Loss: 0.1159\n",
            "Epoch 48/100 - Training Loss: 0.0944 - Validation Loss: 0.1150\n",
            "Epoch 49/100 - Training Loss: 0.0936 - Validation Loss: 0.1134\n",
            "Epoch 50/100 - Training Loss: 0.0930 - Validation Loss: 0.1128\n",
            "Epoch 51/100 - Training Loss: 0.0923 - Validation Loss: 0.1115\n",
            "Epoch 52/100 - Training Loss: 0.0919 - Validation Loss: 0.1096\n",
            "Epoch 53/100 - Training Loss: 0.0910 - Validation Loss: 0.1099\n",
            "Epoch 54/100 - Training Loss: 0.0904 - Validation Loss: 0.1098\n",
            "Epoch 55/100 - Training Loss: 0.0898 - Validation Loss: 0.1095\n",
            "Epoch 56/100 - Training Loss: 0.0893 - Validation Loss: 0.1073\n",
            "Epoch 57/100 - Training Loss: 0.0886 - Validation Loss: 0.1061\n",
            "Epoch 58/100 - Training Loss: 0.0878 - Validation Loss: 0.1049\n",
            "Epoch 59/100 - Training Loss: 0.0872 - Validation Loss: 0.1046\n",
            "Epoch 60/100 - Training Loss: 0.0866 - Validation Loss: 0.1049\n",
            "Epoch 61/100 - Training Loss: 0.0860 - Validation Loss: 0.1043\n",
            "Epoch 62/100 - Training Loss: 0.0854 - Validation Loss: 0.1024\n",
            "Epoch 63/100 - Training Loss: 0.0848 - Validation Loss: 0.1023\n",
            "Epoch 64/100 - Training Loss: 0.0842 - Validation Loss: 0.1009\n",
            "Epoch 65/100 - Training Loss: 0.0835 - Validation Loss: 0.1003\n",
            "Epoch 66/100 - Training Loss: 0.0828 - Validation Loss: 0.1002\n",
            "Epoch 67/100 - Training Loss: 0.0824 - Validation Loss: 0.1003\n",
            "Epoch 68/100 - Training Loss: 0.0820 - Validation Loss: 0.0982\n",
            "Epoch 69/100 - Training Loss: 0.0810 - Validation Loss: 0.0970\n",
            "Epoch 70/100 - Training Loss: 0.0805 - Validation Loss: 0.0973\n",
            "Epoch 71/100 - Training Loss: 0.0800 - Validation Loss: 0.0955\n",
            "Epoch 72/100 - Training Loss: 0.0793 - Validation Loss: 0.0963\n",
            "Epoch 73/100 - Training Loss: 0.0786 - Validation Loss: 0.0954\n",
            "Epoch 74/100 - Training Loss: 0.0782 - Validation Loss: 0.0952\n",
            "Epoch 75/100 - Training Loss: 0.0775 - Validation Loss: 0.0936\n",
            "Epoch 76/100 - Training Loss: 0.0769 - Validation Loss: 0.0932\n",
            "Epoch 77/100 - Training Loss: 0.0764 - Validation Loss: 0.0918\n",
            "Epoch 78/100 - Training Loss: 0.0758 - Validation Loss: 0.0904\n",
            "Epoch 79/100 - Training Loss: 0.0751 - Validation Loss: 0.0904\n",
            "Epoch 80/100 - Training Loss: 0.0745 - Validation Loss: 0.0904\n",
            "Epoch 81/100 - Training Loss: 0.0741 - Validation Loss: 0.0883\n",
            "Epoch 82/100 - Training Loss: 0.0734 - Validation Loss: 0.0889\n",
            "Epoch 83/100 - Training Loss: 0.0728 - Validation Loss: 0.0886\n",
            "Epoch 84/100 - Training Loss: 0.0723 - Validation Loss: 0.0865\n",
            "Epoch 85/100 - Training Loss: 0.0716 - Validation Loss: 0.0857\n",
            "Epoch 86/100 - Training Loss: 0.0710 - Validation Loss: 0.0863\n",
            "Epoch 87/100 - Training Loss: 0.0706 - Validation Loss: 0.0861\n",
            "Epoch 88/100 - Training Loss: 0.0699 - Validation Loss: 0.0844\n",
            "Epoch 89/100 - Training Loss: 0.0695 - Validation Loss: 0.0834\n",
            "Epoch 90/100 - Training Loss: 0.0687 - Validation Loss: 0.0830\n",
            "Epoch 91/100 - Training Loss: 0.0682 - Validation Loss: 0.0820\n",
            "Epoch 92/100 - Training Loss: 0.0679 - Validation Loss: 0.0832\n",
            "Epoch 93/100 - Training Loss: 0.0671 - Validation Loss: 0.0825\n",
            "Epoch 94/100 - Training Loss: 0.0665 - Validation Loss: 0.0808\n",
            "Epoch 95/100 - Training Loss: 0.0660 - Validation Loss: 0.0807\n",
            "Epoch 96/100 - Training Loss: 0.0654 - Validation Loss: 0.0801\n",
            "Epoch 97/100 - Training Loss: 0.0648 - Validation Loss: 0.0792\n",
            "Epoch 98/100 - Training Loss: 0.0642 - Validation Loss: 0.0775\n",
            "Epoch 99/100 - Training Loss: 0.0636 - Validation Loss: 0.0776\n",
            "Epoch 100/100 - Training Loss: 0.0633 - Validation Loss: 0.0762\n",
            "1/1 [==============================] - 0s 35ms/step - loss: 0.0613\n",
            "Test Loss: 0.0613\n"
          ]
        }
      ]
    },
    {
      "cell_type": "code",
      "source": [
        "# Calculate accuracy on the test set\n",
        "y_pred = model.predict(X_test)\n",
        "y_pred_encoded = np.argmax(y_pred, axis=1)\n",
        "y_test_encoded = np.argmax(y_test, axis=1)\n",
        "accuracy = np.mean(y_pred_encoded == y_test_encoded)\n",
        "print(f\"Test Accuracy: {accuracy*100:.2f}%\")"
      ],
      "metadata": {
        "colab": {
          "base_uri": "https://localhost:8080/"
        },
        "id": "zG-z9dz0viOO",
        "outputId": "7c98dabc-2d8d-4f35-ca66-928f6b37e333"
      },
      "execution_count": null,
      "outputs": [
        {
          "output_type": "stream",
          "name": "stdout",
          "text": [
            "1/1 [==============================] - 0s 21ms/step\n",
            "Test Accuracy: 93.33%\n"
          ]
        }
      ]
    }
  ]
}