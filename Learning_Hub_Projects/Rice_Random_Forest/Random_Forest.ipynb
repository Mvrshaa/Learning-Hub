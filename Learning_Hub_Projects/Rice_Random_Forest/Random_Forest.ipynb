{
  "nbformat": 4,
  "nbformat_minor": 0,
  "metadata": {
    "colab": {
      "provenance": []
    },
    "kernelspec": {
      "name": "python3",
      "display_name": "Python 3"
    },
    "language_info": {
      "name": "python"
    }
  },
  "cells": [
    {
      "cell_type": "code",
      "source": [
        "from google.colab import drive\n",
        "drive.mount(\"/content/drive\")"
      ],
      "metadata": {
        "colab": {
          "base_uri": "https://localhost:8080/"
        },
        "id": "_zzjRgPm_6i0",
        "outputId": "8d1a1cf3-c06b-4a30-c1c3-df7ed2c3acab"
      },
      "execution_count": null,
      "outputs": [
        {
          "output_type": "stream",
          "name": "stdout",
          "text": [
            "Mounted at /content/drive\n"
          ]
        }
      ]
    },
    {
      "cell_type": "code",
      "source": [
        "#import libraries\n",
        "import pandas as pd\n",
        "from sklearn.model_selection import train_test_split\n",
        "from sklearn.ensemble import RandomForestClassifier\n",
        "from sklearn.metrics import confusion_matrix, accuracy_score, precision_score, recall_score, f1_score, ConfusionMatrixDisplay"
      ],
      "metadata": {
        "id": "0eU6nEcnQxmw"
      },
      "execution_count": null,
      "outputs": []
    },
    {
      "cell_type": "code",
      "source": [
        "# Load the dataset\n",
        "path=\"/content/drive/MyDrive/Lab3/Rice_Dataset_Commeo_and_Osmancik/Rice_Cammeo_Osmancik.xlsx\"\n",
        "df = pd.read_excel(path)\n",
        "df.head()"
      ],
      "metadata": {
        "colab": {
          "base_uri": "https://localhost:8080/",
          "height": 206
        },
        "id": "vT7bcQBURRb4",
        "outputId": "30501530-937f-4d7a-c06c-0a821eaf8e6d"
      },
      "execution_count": null,
      "outputs": [
        {
          "output_type": "execute_result",
          "data": {
            "text/plain": [
              "    Area   Perimeter  Major_Axis_Length  Minor_Axis_Length  Eccentricity  \\\n",
              "0  15231  525.578979         229.749878          85.093788      0.928882   \n",
              "1  14656  494.311005         206.020065          91.730972      0.895405   \n",
              "2  14634  501.122009         214.106781          87.768288      0.912118   \n",
              "3  13176  458.342987         193.337387          87.448395      0.891861   \n",
              "4  14688  507.166992         211.743378          89.312454      0.906691   \n",
              "\n",
              "   Convex_Area    Extent   Class  \n",
              "0        15617  0.572896  Cammeo  \n",
              "1        15072  0.615436  Cammeo  \n",
              "2        14954  0.693259  Cammeo  \n",
              "3        13368  0.640669  Cammeo  \n",
              "4        15262  0.646024  Cammeo  "
            ],
            "text/html": [
              "\n",
              "  <div id=\"df-8413b9cb-b2ae-46d9-aada-9e5dab651946\">\n",
              "    <div class=\"colab-df-container\">\n",
              "      <div>\n",
              "<style scoped>\n",
              "    .dataframe tbody tr th:only-of-type {\n",
              "        vertical-align: middle;\n",
              "    }\n",
              "\n",
              "    .dataframe tbody tr th {\n",
              "        vertical-align: top;\n",
              "    }\n",
              "\n",
              "    .dataframe thead th {\n",
              "        text-align: right;\n",
              "    }\n",
              "</style>\n",
              "<table border=\"1\" class=\"dataframe\">\n",
              "  <thead>\n",
              "    <tr style=\"text-align: right;\">\n",
              "      <th></th>\n",
              "      <th>Area</th>\n",
              "      <th>Perimeter</th>\n",
              "      <th>Major_Axis_Length</th>\n",
              "      <th>Minor_Axis_Length</th>\n",
              "      <th>Eccentricity</th>\n",
              "      <th>Convex_Area</th>\n",
              "      <th>Extent</th>\n",
              "      <th>Class</th>\n",
              "    </tr>\n",
              "  </thead>\n",
              "  <tbody>\n",
              "    <tr>\n",
              "      <th>0</th>\n",
              "      <td>15231</td>\n",
              "      <td>525.578979</td>\n",
              "      <td>229.749878</td>\n",
              "      <td>85.093788</td>\n",
              "      <td>0.928882</td>\n",
              "      <td>15617</td>\n",
              "      <td>0.572896</td>\n",
              "      <td>Cammeo</td>\n",
              "    </tr>\n",
              "    <tr>\n",
              "      <th>1</th>\n",
              "      <td>14656</td>\n",
              "      <td>494.311005</td>\n",
              "      <td>206.020065</td>\n",
              "      <td>91.730972</td>\n",
              "      <td>0.895405</td>\n",
              "      <td>15072</td>\n",
              "      <td>0.615436</td>\n",
              "      <td>Cammeo</td>\n",
              "    </tr>\n",
              "    <tr>\n",
              "      <th>2</th>\n",
              "      <td>14634</td>\n",
              "      <td>501.122009</td>\n",
              "      <td>214.106781</td>\n",
              "      <td>87.768288</td>\n",
              "      <td>0.912118</td>\n",
              "      <td>14954</td>\n",
              "      <td>0.693259</td>\n",
              "      <td>Cammeo</td>\n",
              "    </tr>\n",
              "    <tr>\n",
              "      <th>3</th>\n",
              "      <td>13176</td>\n",
              "      <td>458.342987</td>\n",
              "      <td>193.337387</td>\n",
              "      <td>87.448395</td>\n",
              "      <td>0.891861</td>\n",
              "      <td>13368</td>\n",
              "      <td>0.640669</td>\n",
              "      <td>Cammeo</td>\n",
              "    </tr>\n",
              "    <tr>\n",
              "      <th>4</th>\n",
              "      <td>14688</td>\n",
              "      <td>507.166992</td>\n",
              "      <td>211.743378</td>\n",
              "      <td>89.312454</td>\n",
              "      <td>0.906691</td>\n",
              "      <td>15262</td>\n",
              "      <td>0.646024</td>\n",
              "      <td>Cammeo</td>\n",
              "    </tr>\n",
              "  </tbody>\n",
              "</table>\n",
              "</div>\n",
              "      <button class=\"colab-df-convert\" onclick=\"convertToInteractive('df-8413b9cb-b2ae-46d9-aada-9e5dab651946')\"\n",
              "              title=\"Convert this dataframe to an interactive table.\"\n",
              "              style=\"display:none;\">\n",
              "        \n",
              "  <svg xmlns=\"http://www.w3.org/2000/svg\" height=\"24px\"viewBox=\"0 0 24 24\"\n",
              "       width=\"24px\">\n",
              "    <path d=\"M0 0h24v24H0V0z\" fill=\"none\"/>\n",
              "    <path d=\"M18.56 5.44l.94 2.06.94-2.06 2.06-.94-2.06-.94-.94-2.06-.94 2.06-2.06.94zm-11 1L8.5 8.5l.94-2.06 2.06-.94-2.06-.94L8.5 2.5l-.94 2.06-2.06.94zm10 10l.94 2.06.94-2.06 2.06-.94-2.06-.94-.94-2.06-.94 2.06-2.06.94z\"/><path d=\"M17.41 7.96l-1.37-1.37c-.4-.4-.92-.59-1.43-.59-.52 0-1.04.2-1.43.59L10.3 9.45l-7.72 7.72c-.78.78-.78 2.05 0 2.83L4 21.41c.39.39.9.59 1.41.59.51 0 1.02-.2 1.41-.59l7.78-7.78 2.81-2.81c.8-.78.8-2.07 0-2.86zM5.41 20L4 18.59l7.72-7.72 1.47 1.35L5.41 20z\"/>\n",
              "  </svg>\n",
              "      </button>\n",
              "      \n",
              "  <style>\n",
              "    .colab-df-container {\n",
              "      display:flex;\n",
              "      flex-wrap:wrap;\n",
              "      gap: 12px;\n",
              "    }\n",
              "\n",
              "    .colab-df-convert {\n",
              "      background-color: #E8F0FE;\n",
              "      border: none;\n",
              "      border-radius: 50%;\n",
              "      cursor: pointer;\n",
              "      display: none;\n",
              "      fill: #1967D2;\n",
              "      height: 32px;\n",
              "      padding: 0 0 0 0;\n",
              "      width: 32px;\n",
              "    }\n",
              "\n",
              "    .colab-df-convert:hover {\n",
              "      background-color: #E2EBFA;\n",
              "      box-shadow: 0px 1px 2px rgba(60, 64, 67, 0.3), 0px 1px 3px 1px rgba(60, 64, 67, 0.15);\n",
              "      fill: #174EA6;\n",
              "    }\n",
              "\n",
              "    [theme=dark] .colab-df-convert {\n",
              "      background-color: #3B4455;\n",
              "      fill: #D2E3FC;\n",
              "    }\n",
              "\n",
              "    [theme=dark] .colab-df-convert:hover {\n",
              "      background-color: #434B5C;\n",
              "      box-shadow: 0px 1px 3px 1px rgba(0, 0, 0, 0.15);\n",
              "      filter: drop-shadow(0px 1px 2px rgba(0, 0, 0, 0.3));\n",
              "      fill: #FFFFFF;\n",
              "    }\n",
              "  </style>\n",
              "\n",
              "      <script>\n",
              "        const buttonEl =\n",
              "          document.querySelector('#df-8413b9cb-b2ae-46d9-aada-9e5dab651946 button.colab-df-convert');\n",
              "        buttonEl.style.display =\n",
              "          google.colab.kernel.accessAllowed ? 'block' : 'none';\n",
              "\n",
              "        async function convertToInteractive(key) {\n",
              "          const element = document.querySelector('#df-8413b9cb-b2ae-46d9-aada-9e5dab651946');\n",
              "          const dataTable =\n",
              "            await google.colab.kernel.invokeFunction('convertToInteractive',\n",
              "                                                     [key], {});\n",
              "          if (!dataTable) return;\n",
              "\n",
              "          const docLinkHtml = 'Like what you see? Visit the ' +\n",
              "            '<a target=\"_blank\" href=https://colab.research.google.com/notebooks/data_table.ipynb>data table notebook</a>'\n",
              "            + ' to learn more about interactive tables.';\n",
              "          element.innerHTML = '';\n",
              "          dataTable['output_type'] = 'display_data';\n",
              "          await google.colab.output.renderOutput(dataTable, element);\n",
              "          const docLink = document.createElement('div');\n",
              "          docLink.innerHTML = docLinkHtml;\n",
              "          element.appendChild(docLink);\n",
              "        }\n",
              "      </script>\n",
              "    </div>\n",
              "  </div>\n",
              "  "
            ]
          },
          "metadata": {},
          "execution_count": 7
        }
      ]
    },
    {
      "cell_type": "code",
      "source": [
        "# Split the dataset into features (X) and target (y)\n",
        "X = df.iloc[:, :-1]\n",
        "y = df.iloc[:, -1]"
      ],
      "metadata": {
        "id": "4uInU115drmg"
      },
      "execution_count": null,
      "outputs": []
    },
    {
      "cell_type": "code",
      "source": [
        "# Split the dataset into training and testing sets\n",
        "X_train, X_test, y_train, y_test = train_test_split(X, y, test_size=0.2, random_state=42)\n"
      ],
      "metadata": {
        "id": "Fno8wpsoRqbn"
      },
      "execution_count": null,
      "outputs": []
    },
    {
      "cell_type": "code",
      "source": [
        "# Create a random forest classifier\n",
        "rf_classifier = RandomForestClassifier(n_estimators=100, random_state=42)"
      ],
      "metadata": {
        "id": "N49pLs4VRqoF"
      },
      "execution_count": null,
      "outputs": []
    },
    {
      "cell_type": "code",
      "source": [
        "# Train the classifier\n",
        "rf_classifier.fit(X_train, y_train)"
      ],
      "metadata": {
        "colab": {
          "base_uri": "https://localhost:8080/",
          "height": 74
        },
        "id": "V5JyyjtyRzYn",
        "outputId": "0e9a99f6-fd48-46da-bd17-8725584a1cbb"
      },
      "execution_count": null,
      "outputs": [
        {
          "output_type": "execute_result",
          "data": {
            "text/plain": [
              "RandomForestClassifier(random_state=42)"
            ],
            "text/html": [
              "<style>#sk-container-id-1 {color: black;background-color: white;}#sk-container-id-1 pre{padding: 0;}#sk-container-id-1 div.sk-toggleable {background-color: white;}#sk-container-id-1 label.sk-toggleable__label {cursor: pointer;display: block;width: 100%;margin-bottom: 0;padding: 0.3em;box-sizing: border-box;text-align: center;}#sk-container-id-1 label.sk-toggleable__label-arrow:before {content: \"▸\";float: left;margin-right: 0.25em;color: #696969;}#sk-container-id-1 label.sk-toggleable__label-arrow:hover:before {color: black;}#sk-container-id-1 div.sk-estimator:hover label.sk-toggleable__label-arrow:before {color: black;}#sk-container-id-1 div.sk-toggleable__content {max-height: 0;max-width: 0;overflow: hidden;text-align: left;background-color: #f0f8ff;}#sk-container-id-1 div.sk-toggleable__content pre {margin: 0.2em;color: black;border-radius: 0.25em;background-color: #f0f8ff;}#sk-container-id-1 input.sk-toggleable__control:checked~div.sk-toggleable__content {max-height: 200px;max-width: 100%;overflow: auto;}#sk-container-id-1 input.sk-toggleable__control:checked~label.sk-toggleable__label-arrow:before {content: \"▾\";}#sk-container-id-1 div.sk-estimator input.sk-toggleable__control:checked~label.sk-toggleable__label {background-color: #d4ebff;}#sk-container-id-1 div.sk-label input.sk-toggleable__control:checked~label.sk-toggleable__label {background-color: #d4ebff;}#sk-container-id-1 input.sk-hidden--visually {border: 0;clip: rect(1px 1px 1px 1px);clip: rect(1px, 1px, 1px, 1px);height: 1px;margin: -1px;overflow: hidden;padding: 0;position: absolute;width: 1px;}#sk-container-id-1 div.sk-estimator {font-family: monospace;background-color: #f0f8ff;border: 1px dotted black;border-radius: 0.25em;box-sizing: border-box;margin-bottom: 0.5em;}#sk-container-id-1 div.sk-estimator:hover {background-color: #d4ebff;}#sk-container-id-1 div.sk-parallel-item::after {content: \"\";width: 100%;border-bottom: 1px solid gray;flex-grow: 1;}#sk-container-id-1 div.sk-label:hover label.sk-toggleable__label {background-color: #d4ebff;}#sk-container-id-1 div.sk-serial::before {content: \"\";position: absolute;border-left: 1px solid gray;box-sizing: border-box;top: 0;bottom: 0;left: 50%;z-index: 0;}#sk-container-id-1 div.sk-serial {display: flex;flex-direction: column;align-items: center;background-color: white;padding-right: 0.2em;padding-left: 0.2em;position: relative;}#sk-container-id-1 div.sk-item {position: relative;z-index: 1;}#sk-container-id-1 div.sk-parallel {display: flex;align-items: stretch;justify-content: center;background-color: white;position: relative;}#sk-container-id-1 div.sk-item::before, #sk-container-id-1 div.sk-parallel-item::before {content: \"\";position: absolute;border-left: 1px solid gray;box-sizing: border-box;top: 0;bottom: 0;left: 50%;z-index: -1;}#sk-container-id-1 div.sk-parallel-item {display: flex;flex-direction: column;z-index: 1;position: relative;background-color: white;}#sk-container-id-1 div.sk-parallel-item:first-child::after {align-self: flex-end;width: 50%;}#sk-container-id-1 div.sk-parallel-item:last-child::after {align-self: flex-start;width: 50%;}#sk-container-id-1 div.sk-parallel-item:only-child::after {width: 0;}#sk-container-id-1 div.sk-dashed-wrapped {border: 1px dashed gray;margin: 0 0.4em 0.5em 0.4em;box-sizing: border-box;padding-bottom: 0.4em;background-color: white;}#sk-container-id-1 div.sk-label label {font-family: monospace;font-weight: bold;display: inline-block;line-height: 1.2em;}#sk-container-id-1 div.sk-label-container {text-align: center;}#sk-container-id-1 div.sk-container {/* jupyter's `normalize.less` sets `[hidden] { display: none; }` but bootstrap.min.css set `[hidden] { display: none !important; }` so we also need the `!important` here to be able to override the default hidden behavior on the sphinx rendered scikit-learn.org. See: https://github.com/scikit-learn/scikit-learn/issues/21755 */display: inline-block !important;position: relative;}#sk-container-id-1 div.sk-text-repr-fallback {display: none;}</style><div id=\"sk-container-id-1\" class=\"sk-top-container\"><div class=\"sk-text-repr-fallback\"><pre>RandomForestClassifier(random_state=42)</pre><b>In a Jupyter environment, please rerun this cell to show the HTML representation or trust the notebook. <br />On GitHub, the HTML representation is unable to render, please try loading this page with nbviewer.org.</b></div><div class=\"sk-container\" hidden><div class=\"sk-item\"><div class=\"sk-estimator sk-toggleable\"><input class=\"sk-toggleable__control sk-hidden--visually\" id=\"sk-estimator-id-1\" type=\"checkbox\" checked><label for=\"sk-estimator-id-1\" class=\"sk-toggleable__label sk-toggleable__label-arrow\">RandomForestClassifier</label><div class=\"sk-toggleable__content\"><pre>RandomForestClassifier(random_state=42)</pre></div></div></div></div></div>"
            ]
          },
          "metadata": {},
          "execution_count": 11
        }
      ]
    },
    {
      "cell_type": "code",
      "source": [
        "# Predict the labels for the test set\n",
        "y_pred = rf_classifier.predict(X_test)\n"
      ],
      "metadata": {
        "id": "9BBXSwANRzhg"
      },
      "execution_count": null,
      "outputs": []
    },
    {
      "cell_type": "code",
      "source": [
        "# Calculate the evaluation metrics\n",
        "confusion_mat = confusion_matrix(y_test, y_pred, labels=['Cammeo', 'Osmancik'])\n",
        "accuracy = accuracy_score(y_test, y_pred)\n",
        "precision = precision_score(y_test, y_pred, pos_label='Cammeo')\n",
        "recall = recall_score(y_test, y_pred, pos_label='Cammeo')\n",
        "f1 = f1_score(y_test, y_pred, pos_label='Cammeo')"
      ],
      "metadata": {
        "id": "vDzsYcZBR6mO"
      },
      "execution_count": null,
      "outputs": []
    },
    {
      "cell_type": "code",
      "source": [
        "# Print the evaluation metrics\n",
        "print(\"Confusion Matrix:\\n\", confusion_mat)\n",
        "print(\"Accuracy:\", accuracy)\n",
        "print(\"Precision:\", precision)\n",
        "print(\"Sensitivity/Recall:\", recall)\n",
        "print(\"F1 Score:\", f1)"
      ],
      "metadata": {
        "colab": {
          "base_uri": "https://localhost:8080/"
        },
        "id": "d2dPw4a6R60k",
        "outputId": "24ba318e-3f65-43b6-d6f8-549a95fb407d"
      },
      "execution_count": null,
      "outputs": [
        {
          "output_type": "stream",
          "name": "stdout",
          "text": [
            "Confusion Matrix:\n",
            " [[319  31]\n",
            " [ 25 387]]\n",
            "Accuracy: 0.926509186351706\n",
            "Precision: 0.9273255813953488\n",
            "Sensitivity/Recall: 0.9114285714285715\n",
            "F1 Score: 0.9193083573487031\n"
          ]
        }
      ]
    },
    {
      "cell_type": "code",
      "source": [
        "# Export the first three decision trees from the forest\n",
        "# Tree Visualisation\n",
        "from sklearn.tree import export_graphviz\n",
        "from IPython.display import Image\n",
        "import graphviz\n",
        "\n",
        "for i in range(3):\n",
        "    tree = rf_classifier.estimators_[i]\n",
        "    dot_data = export_graphviz(tree,\n",
        "                               feature_names=X_train.columns,\n",
        "                               filled=True,\n",
        "                               max_depth=2,\n",
        "                               impurity=False,\n",
        "                               proportion=True)\n",
        "    graph = graphviz.Source(dot_data)\n",
        "    display(graph)"
      ],
      "metadata": {
        "colab": {
          "base_uri": "https://localhost:8080/",
          "height": 1000
        },
        "id": "u0l5iql28q-x",
        "outputId": "2319d3f4-ee67-4dba-e9f4-42063e517eea"
      },
      "execution_count": null,
      "outputs": [
        {
          "output_type": "display_data",
          "data": {
            "image/svg+xml": "<?xml version=\"1.0\" encoding=\"UTF-8\" standalone=\"no\"?>\n<!DOCTYPE svg PUBLIC \"-//W3C//DTD SVG 1.1//EN\"\n \"http://www.w3.org/Graphics/SVG/1.1/DTD/svg11.dtd\">\n<!-- Generated by graphviz version 2.43.0 (0)\n -->\n<!-- Title: Tree Pages: 1 -->\n<svg width=\"712pt\" height=\"311pt\"\n viewBox=\"0.00 0.00 712.00 311.00\" xmlns=\"http://www.w3.org/2000/svg\" xmlns:xlink=\"http://www.w3.org/1999/xlink\">\n<g id=\"graph0\" class=\"graph\" transform=\"scale(1 1) rotate(0) translate(4 307)\">\n<title>Tree</title>\n<polygon fill=\"white\" stroke=\"transparent\" points=\"-4,4 -4,-307 708,-307 708,4 -4,4\"/>\n<!-- 0 -->\n<g id=\"node1\" class=\"node\">\n<title>0</title>\n<polygon fill=\"#cee7f9\" stroke=\"black\" points=\"411,-303 264,-303 264,-250 411,-250 411,-303\"/>\n<text text-anchor=\"middle\" x=\"337.5\" y=\"-287.8\" font-family=\"Helvetica,sans-Serif\" font-size=\"14.00\">Eccentricity &lt;= 0.887</text>\n<text text-anchor=\"middle\" x=\"337.5\" y=\"-272.8\" font-family=\"Helvetica,sans-Serif\" font-size=\"14.00\">samples = 100.0%</text>\n<text text-anchor=\"middle\" x=\"337.5\" y=\"-257.8\" font-family=\"Helvetica,sans-Serif\" font-size=\"14.00\">value = [0.429, 0.571]</text>\n</g>\n<!-- 1 -->\n<g id=\"node2\" class=\"node\">\n<title>1</title>\n<polygon fill=\"#58ace9\" stroke=\"black\" points=\"343.5,-214 137.5,-214 137.5,-161 343.5,-161 343.5,-214\"/>\n<text text-anchor=\"middle\" x=\"240.5\" y=\"-198.8\" font-family=\"Helvetica,sans-Serif\" font-size=\"14.00\">Major_Axis_Length &lt;= 191.307</text>\n<text text-anchor=\"middle\" x=\"240.5\" y=\"-183.8\" font-family=\"Helvetica,sans-Serif\" font-size=\"14.00\">samples = 46.6%</text>\n<text text-anchor=\"middle\" x=\"240.5\" y=\"-168.8\" font-family=\"Helvetica,sans-Serif\" font-size=\"14.00\">value = [0.136, 0.864]</text>\n</g>\n<!-- 0&#45;&gt;1 -->\n<g id=\"edge1\" class=\"edge\">\n<title>0&#45;&gt;1</title>\n<path fill=\"none\" stroke=\"black\" d=\"M308.92,-249.87C298.85,-240.83 287.39,-230.55 276.76,-221.03\"/>\n<polygon fill=\"black\" stroke=\"black\" points=\"278.99,-218.32 269.21,-214.25 274.32,-223.53 278.99,-218.32\"/>\n<text text-anchor=\"middle\" x=\"270.57\" y=\"-235.51\" font-family=\"Helvetica,sans-Serif\" font-size=\"14.00\">True</text>\n</g>\n<!-- 110 -->\n<g id=\"node9\" class=\"node\">\n<title>110</title>\n<polygon fill=\"#f1ba93\" stroke=\"black\" points=\"509,-214 362,-214 362,-161 509,-161 509,-214\"/>\n<text text-anchor=\"middle\" x=\"435.5\" y=\"-198.8\" font-family=\"Helvetica,sans-Serif\" font-size=\"14.00\">Area &lt;= 12849.5</text>\n<text text-anchor=\"middle\" x=\"435.5\" y=\"-183.8\" font-family=\"Helvetica,sans-Serif\" font-size=\"14.00\">samples = 53.4%</text>\n<text text-anchor=\"middle\" x=\"435.5\" y=\"-168.8\" font-family=\"Helvetica,sans-Serif\" font-size=\"14.00\">value = [0.687, 0.313]</text>\n</g>\n<!-- 0&#45;&gt;110 -->\n<g id=\"edge8\" class=\"edge\">\n<title>0&#45;&gt;110</title>\n<path fill=\"none\" stroke=\"black\" d=\"M366.37,-249.87C376.55,-240.83 388.13,-230.55 398.86,-221.03\"/>\n<polygon fill=\"black\" stroke=\"black\" points=\"401.34,-223.51 406.49,-214.25 396.69,-218.27 401.34,-223.51\"/>\n<text text-anchor=\"middle\" x=\"405.01\" y=\"-235.51\" font-family=\"Helvetica,sans-Serif\" font-size=\"14.00\">False</text>\n</g>\n<!-- 2 -->\n<g id=\"node3\" class=\"node\">\n<title>2</title>\n<polygon fill=\"#3fa0e6\" stroke=\"black\" points=\"149,-125 0,-125 0,-72 149,-72 149,-125\"/>\n<text text-anchor=\"middle\" x=\"74.5\" y=\"-109.8\" font-family=\"Helvetica,sans-Serif\" font-size=\"14.00\">Perimeter &lt;= 438.273</text>\n<text text-anchor=\"middle\" x=\"74.5\" y=\"-94.8\" font-family=\"Helvetica,sans-Serif\" font-size=\"14.00\">samples = 41.5%</text>\n<text text-anchor=\"middle\" x=\"74.5\" y=\"-79.8\" font-family=\"Helvetica,sans-Serif\" font-size=\"14.00\">value = [0.032, 0.968]</text>\n</g>\n<!-- 1&#45;&gt;2 -->\n<g id=\"edge2\" class=\"edge\">\n<title>1&#45;&gt;2</title>\n<path fill=\"none\" stroke=\"black\" d=\"M191.59,-160.87C173.02,-151.13 151.68,-139.95 132.36,-129.82\"/>\n<polygon fill=\"black\" stroke=\"black\" points=\"133.83,-126.64 123.34,-125.1 130.58,-132.84 133.83,-126.64\"/>\n</g>\n<!-- 83 -->\n<g id=\"node6\" class=\"node\">\n<title>83</title>\n<polygon fill=\"#e78c4a\" stroke=\"black\" points=\"314,-125 167,-125 167,-72 314,-72 314,-125\"/>\n<text text-anchor=\"middle\" x=\"240.5\" y=\"-109.8\" font-family=\"Helvetica,sans-Serif\" font-size=\"14.00\">Area &lt;= 15170.5</text>\n<text text-anchor=\"middle\" x=\"240.5\" y=\"-94.8\" font-family=\"Helvetica,sans-Serif\" font-size=\"14.00\">samples = 5.0%</text>\n<text text-anchor=\"middle\" x=\"240.5\" y=\"-79.8\" font-family=\"Helvetica,sans-Serif\" font-size=\"14.00\">value = [0.922, 0.078]</text>\n</g>\n<!-- 1&#45;&gt;83 -->\n<g id=\"edge5\" class=\"edge\">\n<title>1&#45;&gt;83</title>\n<path fill=\"none\" stroke=\"black\" d=\"M240.5,-160.87C240.5,-152.89 240.5,-143.93 240.5,-135.38\"/>\n<polygon fill=\"black\" stroke=\"black\" points=\"244,-135.25 240.5,-125.25 237,-135.25 244,-135.25\"/>\n</g>\n<!-- 3 -->\n<g id=\"node4\" class=\"node\">\n<title>3</title>\n<polygon fill=\"#c0c0c0\" stroke=\"black\" points=\"65.5,-36 11.5,-36 11.5,0 65.5,0 65.5,-36\"/>\n<text text-anchor=\"middle\" x=\"38.5\" y=\"-14.3\" font-family=\"Helvetica,sans-Serif\" font-size=\"14.00\">(...)</text>\n</g>\n<!-- 2&#45;&gt;3 -->\n<g id=\"edge3\" class=\"edge\">\n<title>2&#45;&gt;3</title>\n<path fill=\"none\" stroke=\"black\" d=\"M62.71,-71.8C58.84,-63.35 54.53,-53.95 50.63,-45.45\"/>\n<polygon fill=\"black\" stroke=\"black\" points=\"53.8,-43.96 46.45,-36.33 47.43,-46.88 53.8,-43.96\"/>\n</g>\n<!-- 18 -->\n<g id=\"node5\" class=\"node\">\n<title>18</title>\n<polygon fill=\"#c0c0c0\" stroke=\"black\" points=\"137.5,-36 83.5,-36 83.5,0 137.5,0 137.5,-36\"/>\n<text text-anchor=\"middle\" x=\"110.5\" y=\"-14.3\" font-family=\"Helvetica,sans-Serif\" font-size=\"14.00\">(...)</text>\n</g>\n<!-- 2&#45;&gt;18 -->\n<g id=\"edge4\" class=\"edge\">\n<title>2&#45;&gt;18</title>\n<path fill=\"none\" stroke=\"black\" d=\"M86.29,-71.8C90.16,-63.35 94.47,-53.95 98.37,-45.45\"/>\n<polygon fill=\"black\" stroke=\"black\" points=\"101.57,-46.88 102.55,-36.33 95.2,-43.96 101.57,-46.88\"/>\n</g>\n<!-- 84 -->\n<g id=\"node7\" class=\"node\">\n<title>84</title>\n<polygon fill=\"#c0c0c0\" stroke=\"black\" points=\"247.5,-36 193.5,-36 193.5,0 247.5,0 247.5,-36\"/>\n<text text-anchor=\"middle\" x=\"220.5\" y=\"-14.3\" font-family=\"Helvetica,sans-Serif\" font-size=\"14.00\">(...)</text>\n</g>\n<!-- 83&#45;&gt;84 -->\n<g id=\"edge6\" class=\"edge\">\n<title>83&#45;&gt;84</title>\n<path fill=\"none\" stroke=\"black\" d=\"M233.95,-71.8C231.87,-63.62 229.56,-54.55 227.45,-46.27\"/>\n<polygon fill=\"black\" stroke=\"black\" points=\"230.78,-45.16 224.92,-36.33 223.99,-46.88 230.78,-45.16\"/>\n</g>\n<!-- 109 -->\n<g id=\"node8\" class=\"node\">\n<title>109</title>\n<polygon fill=\"#c0c0c0\" stroke=\"black\" points=\"319.5,-36 265.5,-36 265.5,0 319.5,0 319.5,-36\"/>\n<text text-anchor=\"middle\" x=\"292.5\" y=\"-14.3\" font-family=\"Helvetica,sans-Serif\" font-size=\"14.00\">(...)</text>\n</g>\n<!-- 83&#45;&gt;109 -->\n<g id=\"edge7\" class=\"edge\">\n<title>83&#45;&gt;109</title>\n<path fill=\"none\" stroke=\"black\" d=\"M257.53,-71.8C263.24,-63.17 269.62,-53.54 275.34,-44.9\"/>\n<polygon fill=\"black\" stroke=\"black\" points=\"278.42,-46.6 281.02,-36.33 272.58,-42.73 278.42,-46.6\"/>\n</g>\n<!-- 111 -->\n<g id=\"node10\" class=\"node\">\n<title>111</title>\n<polygon fill=\"#82c1ef\" stroke=\"black\" points=\"538.5,-125 332.5,-125 332.5,-72 538.5,-72 538.5,-125\"/>\n<text text-anchor=\"middle\" x=\"435.5\" y=\"-109.8\" font-family=\"Helvetica,sans-Serif\" font-size=\"14.00\">Major_Axis_Length &lt;= 190.363</text>\n<text text-anchor=\"middle\" x=\"435.5\" y=\"-94.8\" font-family=\"Helvetica,sans-Serif\" font-size=\"14.00\">samples = 20.8%</text>\n<text text-anchor=\"middle\" x=\"435.5\" y=\"-79.8\" font-family=\"Helvetica,sans-Serif\" font-size=\"14.00\">value = [0.27, 0.73]</text>\n</g>\n<!-- 110&#45;&gt;111 -->\n<g id=\"edge9\" class=\"edge\">\n<title>110&#45;&gt;111</title>\n<path fill=\"none\" stroke=\"black\" d=\"M435.5,-160.87C435.5,-152.89 435.5,-143.93 435.5,-135.38\"/>\n<polygon fill=\"black\" stroke=\"black\" points=\"439,-135.25 435.5,-125.25 432,-135.25 439,-135.25\"/>\n</g>\n<!-- 292 -->\n<g id=\"node13\" class=\"node\">\n<title>292</title>\n<polygon fill=\"#e68743\" stroke=\"black\" points=\"704,-125 557,-125 557,-72 704,-72 704,-125\"/>\n<text text-anchor=\"middle\" x=\"630.5\" y=\"-109.8\" font-family=\"Helvetica,sans-Serif\" font-size=\"14.00\">Perimeter &lt;= 467.88</text>\n<text text-anchor=\"middle\" x=\"630.5\" y=\"-94.8\" font-family=\"Helvetica,sans-Serif\" font-size=\"14.00\">samples = 32.6%</text>\n<text text-anchor=\"middle\" x=\"630.5\" y=\"-79.8\" font-family=\"Helvetica,sans-Serif\" font-size=\"14.00\">value = [0.953, 0.047]</text>\n</g>\n<!-- 110&#45;&gt;292 -->\n<g id=\"edge12\" class=\"edge\">\n<title>110&#45;&gt;292</title>\n<path fill=\"none\" stroke=\"black\" d=\"M492.69,-160.98C515.01,-151.03 540.76,-139.54 563.91,-129.21\"/>\n<polygon fill=\"black\" stroke=\"black\" points=\"565.61,-132.29 573.31,-125.01 562.75,-125.89 565.61,-132.29\"/>\n</g>\n<!-- 112 -->\n<g id=\"node11\" class=\"node\">\n<title>112</title>\n<polygon fill=\"#c0c0c0\" stroke=\"black\" points=\"409.5,-36 355.5,-36 355.5,0 409.5,0 409.5,-36\"/>\n<text text-anchor=\"middle\" x=\"382.5\" y=\"-14.3\" font-family=\"Helvetica,sans-Serif\" font-size=\"14.00\">(...)</text>\n</g>\n<!-- 111&#45;&gt;112 -->\n<g id=\"edge10\" class=\"edge\">\n<title>111&#45;&gt;112</title>\n<path fill=\"none\" stroke=\"black\" d=\"M418.15,-71.8C412.26,-63.08 405.69,-53.34 399.8,-44.63\"/>\n<polygon fill=\"black\" stroke=\"black\" points=\"402.7,-42.66 394.2,-36.33 396.9,-46.58 402.7,-42.66\"/>\n</g>\n<!-- 215 -->\n<g id=\"node12\" class=\"node\">\n<title>215</title>\n<polygon fill=\"#c0c0c0\" stroke=\"black\" points=\"481.5,-36 427.5,-36 427.5,0 481.5,0 481.5,-36\"/>\n<text text-anchor=\"middle\" x=\"454.5\" y=\"-14.3\" font-family=\"Helvetica,sans-Serif\" font-size=\"14.00\">(...)</text>\n</g>\n<!-- 111&#45;&gt;215 -->\n<g id=\"edge11\" class=\"edge\">\n<title>111&#45;&gt;215</title>\n<path fill=\"none\" stroke=\"black\" d=\"M441.72,-71.8C443.7,-63.62 445.89,-54.55 447.9,-46.27\"/>\n<polygon fill=\"black\" stroke=\"black\" points=\"451.35,-46.87 450.31,-36.33 444.55,-45.23 451.35,-46.87\"/>\n</g>\n<!-- 293 -->\n<g id=\"node14\" class=\"node\">\n<title>293</title>\n<polygon fill=\"#c0c0c0\" stroke=\"black\" points=\"621.5,-36 567.5,-36 567.5,0 621.5,0 621.5,-36\"/>\n<text text-anchor=\"middle\" x=\"594.5\" y=\"-14.3\" font-family=\"Helvetica,sans-Serif\" font-size=\"14.00\">(...)</text>\n</g>\n<!-- 292&#45;&gt;293 -->\n<g id=\"edge13\" class=\"edge\">\n<title>292&#45;&gt;293</title>\n<path fill=\"none\" stroke=\"black\" d=\"M618.71,-71.8C614.84,-63.35 610.53,-53.95 606.63,-45.45\"/>\n<polygon fill=\"black\" stroke=\"black\" points=\"609.8,-43.96 602.45,-36.33 603.43,-46.88 609.8,-43.96\"/>\n</g>\n<!-- 330 -->\n<g id=\"node15\" class=\"node\">\n<title>330</title>\n<polygon fill=\"#c0c0c0\" stroke=\"black\" points=\"693.5,-36 639.5,-36 639.5,0 693.5,0 693.5,-36\"/>\n<text text-anchor=\"middle\" x=\"666.5\" y=\"-14.3\" font-family=\"Helvetica,sans-Serif\" font-size=\"14.00\">(...)</text>\n</g>\n<!-- 292&#45;&gt;330 -->\n<g id=\"edge14\" class=\"edge\">\n<title>292&#45;&gt;330</title>\n<path fill=\"none\" stroke=\"black\" d=\"M642.29,-71.8C646.16,-63.35 650.47,-53.95 654.37,-45.45\"/>\n<polygon fill=\"black\" stroke=\"black\" points=\"657.57,-46.88 658.55,-36.33 651.2,-43.96 657.57,-46.88\"/>\n</g>\n</g>\n</svg>\n",
            "text/plain": [
              "<graphviz.sources.Source at 0x7f740608eb00>"
            ]
          },
          "metadata": {}
        },
        {
          "output_type": "display_data",
          "data": {
            "image/svg+xml": "<?xml version=\"1.0\" encoding=\"UTF-8\" standalone=\"no\"?>\n<!DOCTYPE svg PUBLIC \"-//W3C//DTD SVG 1.1//EN\"\n \"http://www.w3.org/Graphics/SVG/1.1/DTD/svg11.dtd\">\n<!-- Generated by graphviz version 2.43.0 (0)\n -->\n<!-- Title: Tree Pages: 1 -->\n<svg width=\"793pt\" height=\"311pt\"\n viewBox=\"0.00 0.00 793.00 311.00\" xmlns=\"http://www.w3.org/2000/svg\" xmlns:xlink=\"http://www.w3.org/1999/xlink\">\n<g id=\"graph0\" class=\"graph\" transform=\"scale(1 1) rotate(0) translate(4 307)\">\n<title>Tree</title>\n<polygon fill=\"white\" stroke=\"transparent\" points=\"-4,4 -4,-307 789,-307 789,4 -4,4\"/>\n<!-- 0 -->\n<g id=\"node1\" class=\"node\">\n<title>0</title>\n<polygon fill=\"#c4e2f7\" stroke=\"black\" points=\"479,-303 330,-303 330,-250 479,-250 479,-303\"/>\n<text text-anchor=\"middle\" x=\"404.5\" y=\"-287.8\" font-family=\"Helvetica,sans-Serif\" font-size=\"14.00\">Perimeter &lt;= 459.377</text>\n<text text-anchor=\"middle\" x=\"404.5\" y=\"-272.8\" font-family=\"Helvetica,sans-Serif\" font-size=\"14.00\">samples = 100.0%</text>\n<text text-anchor=\"middle\" x=\"404.5\" y=\"-257.8\" font-family=\"Helvetica,sans-Serif\" font-size=\"14.00\">value = [0.412, 0.588]</text>\n</g>\n<!-- 1 -->\n<g id=\"node2\" class=\"node\">\n<title>1</title>\n<polygon fill=\"#48a5e7\" stroke=\"black\" points=\"366,-214 219,-214 219,-161 366,-161 366,-214\"/>\n<text text-anchor=\"middle\" x=\"292.5\" y=\"-198.8\" font-family=\"Helvetica,sans-Serif\" font-size=\"14.00\">Extent &lt;= 0.564</text>\n<text text-anchor=\"middle\" x=\"292.5\" y=\"-183.8\" font-family=\"Helvetica,sans-Serif\" font-size=\"14.00\">samples = 58.0%</text>\n<text text-anchor=\"middle\" x=\"292.5\" y=\"-168.8\" font-family=\"Helvetica,sans-Serif\" font-size=\"14.00\">value = [0.072, 0.928]</text>\n</g>\n<!-- 0&#45;&gt;1 -->\n<g id=\"edge1\" class=\"edge\">\n<title>0&#45;&gt;1</title>\n<path fill=\"none\" stroke=\"black\" d=\"M371.5,-249.87C359.65,-240.66 346.12,-230.15 333.66,-220.47\"/>\n<polygon fill=\"black\" stroke=\"black\" points=\"335.69,-217.62 325.65,-214.25 331.4,-223.15 335.69,-217.62\"/>\n<text text-anchor=\"middle\" x=\"328.77\" y=\"-235.35\" font-family=\"Helvetica,sans-Serif\" font-size=\"14.00\">True</text>\n</g>\n<!-- 184 -->\n<g id=\"node9\" class=\"node\">\n<title>184</title>\n<polygon fill=\"#e89050\" stroke=\"black\" points=\"619.5,-214 413.5,-214 413.5,-161 619.5,-161 619.5,-214\"/>\n<text text-anchor=\"middle\" x=\"516.5\" y=\"-198.8\" font-family=\"Helvetica,sans-Serif\" font-size=\"14.00\">Major_Axis_Length &lt;= 197.381</text>\n<text text-anchor=\"middle\" x=\"516.5\" y=\"-183.8\" font-family=\"Helvetica,sans-Serif\" font-size=\"14.00\">samples = 42.0%</text>\n<text text-anchor=\"middle\" x=\"516.5\" y=\"-168.8\" font-family=\"Helvetica,sans-Serif\" font-size=\"14.00\">value = [0.895, 0.105]</text>\n</g>\n<!-- 0&#45;&gt;184 -->\n<g id=\"edge8\" class=\"edge\">\n<title>0&#45;&gt;184</title>\n<path fill=\"none\" stroke=\"black\" d=\"M437.5,-249.87C449.35,-240.66 462.88,-230.15 475.34,-220.47\"/>\n<polygon fill=\"black\" stroke=\"black\" points=\"477.6,-223.15 483.35,-214.25 473.31,-217.62 477.6,-223.15\"/>\n<text text-anchor=\"middle\" x=\"480.23\" y=\"-235.35\" font-family=\"Helvetica,sans-Serif\" font-size=\"14.00\">False</text>\n</g>\n<!-- 2 -->\n<g id=\"node3\" class=\"node\">\n<title>2</title>\n<polygon fill=\"#c9e5f8\" stroke=\"black\" points=\"171,-125 0,-125 0,-72 171,-72 171,-125\"/>\n<text text-anchor=\"middle\" x=\"85.5\" y=\"-109.8\" font-family=\"Helvetica,sans-Serif\" font-size=\"14.00\">Convex_Area &lt;= 10944.5</text>\n<text text-anchor=\"middle\" x=\"85.5\" y=\"-94.8\" font-family=\"Helvetica,sans-Serif\" font-size=\"14.00\">samples = 1.9%</text>\n<text text-anchor=\"middle\" x=\"85.5\" y=\"-79.8\" font-family=\"Helvetica,sans-Serif\" font-size=\"14.00\">value = [0.422, 0.578]</text>\n</g>\n<!-- 1&#45;&gt;2 -->\n<g id=\"edge2\" class=\"edge\">\n<title>1&#45;&gt;2</title>\n<path fill=\"none\" stroke=\"black\" d=\"M231.79,-160.98C207.89,-150.94 180.28,-139.34 155.54,-128.94\"/>\n<polygon fill=\"black\" stroke=\"black\" points=\"156.78,-125.66 146.21,-125.01 154.07,-132.12 156.78,-125.66\"/>\n</g>\n<!-- 21 -->\n<g id=\"node6\" class=\"node\">\n<title>21</title>\n<polygon fill=\"#45a3e7\" stroke=\"black\" points=\"395.5,-125 189.5,-125 189.5,-72 395.5,-72 395.5,-125\"/>\n<text text-anchor=\"middle\" x=\"292.5\" y=\"-109.8\" font-family=\"Helvetica,sans-Serif\" font-size=\"14.00\">Major_Axis_Length &lt;= 183.279</text>\n<text text-anchor=\"middle\" x=\"292.5\" y=\"-94.8\" font-family=\"Helvetica,sans-Serif\" font-size=\"14.00\">samples = 56.1%</text>\n<text text-anchor=\"middle\" x=\"292.5\" y=\"-79.8\" font-family=\"Helvetica,sans-Serif\" font-size=\"14.00\">value = [0.059, 0.941]</text>\n</g>\n<!-- 1&#45;&gt;21 -->\n<g id=\"edge5\" class=\"edge\">\n<title>1&#45;&gt;21</title>\n<path fill=\"none\" stroke=\"black\" d=\"M292.5,-160.87C292.5,-152.89 292.5,-143.93 292.5,-135.38\"/>\n<polygon fill=\"black\" stroke=\"black\" points=\"296,-135.25 292.5,-125.25 289,-135.25 296,-135.25\"/>\n</g>\n<!-- 3 -->\n<g id=\"node4\" class=\"node\">\n<title>3</title>\n<polygon fill=\"#c0c0c0\" stroke=\"black\" points=\"76.5,-36 22.5,-36 22.5,0 76.5,0 76.5,-36\"/>\n<text text-anchor=\"middle\" x=\"49.5\" y=\"-14.3\" font-family=\"Helvetica,sans-Serif\" font-size=\"14.00\">(...)</text>\n</g>\n<!-- 2&#45;&gt;3 -->\n<g id=\"edge3\" class=\"edge\">\n<title>2&#45;&gt;3</title>\n<path fill=\"none\" stroke=\"black\" d=\"M73.71,-71.8C69.84,-63.35 65.53,-53.95 61.63,-45.45\"/>\n<polygon fill=\"black\" stroke=\"black\" points=\"64.8,-43.96 57.45,-36.33 58.43,-46.88 64.8,-43.96\"/>\n</g>\n<!-- 4 -->\n<g id=\"node5\" class=\"node\">\n<title>4</title>\n<polygon fill=\"#c0c0c0\" stroke=\"black\" points=\"148.5,-36 94.5,-36 94.5,0 148.5,0 148.5,-36\"/>\n<text text-anchor=\"middle\" x=\"121.5\" y=\"-14.3\" font-family=\"Helvetica,sans-Serif\" font-size=\"14.00\">(...)</text>\n</g>\n<!-- 2&#45;&gt;4 -->\n<g id=\"edge4\" class=\"edge\">\n<title>2&#45;&gt;4</title>\n<path fill=\"none\" stroke=\"black\" d=\"M97.29,-71.8C101.16,-63.35 105.47,-53.95 109.37,-45.45\"/>\n<polygon fill=\"black\" stroke=\"black\" points=\"112.57,-46.88 113.55,-36.33 106.2,-43.96 112.57,-46.88\"/>\n</g>\n<!-- 22 -->\n<g id=\"node7\" class=\"node\">\n<title>22</title>\n<polygon fill=\"#c0c0c0\" stroke=\"black\" points=\"283.5,-36 229.5,-36 229.5,0 283.5,0 283.5,-36\"/>\n<text text-anchor=\"middle\" x=\"256.5\" y=\"-14.3\" font-family=\"Helvetica,sans-Serif\" font-size=\"14.00\">(...)</text>\n</g>\n<!-- 21&#45;&gt;22 -->\n<g id=\"edge6\" class=\"edge\">\n<title>21&#45;&gt;22</title>\n<path fill=\"none\" stroke=\"black\" d=\"M280.71,-71.8C276.84,-63.35 272.53,-53.95 268.63,-45.45\"/>\n<polygon fill=\"black\" stroke=\"black\" points=\"271.8,-43.96 264.45,-36.33 265.43,-46.88 271.8,-43.96\"/>\n</g>\n<!-- 73 -->\n<g id=\"node8\" class=\"node\">\n<title>73</title>\n<polygon fill=\"#c0c0c0\" stroke=\"black\" points=\"355.5,-36 301.5,-36 301.5,0 355.5,0 355.5,-36\"/>\n<text text-anchor=\"middle\" x=\"328.5\" y=\"-14.3\" font-family=\"Helvetica,sans-Serif\" font-size=\"14.00\">(...)</text>\n</g>\n<!-- 21&#45;&gt;73 -->\n<g id=\"edge7\" class=\"edge\">\n<title>21&#45;&gt;73</title>\n<path fill=\"none\" stroke=\"black\" d=\"M304.29,-71.8C308.16,-63.35 312.47,-53.95 316.37,-45.45\"/>\n<polygon fill=\"black\" stroke=\"black\" points=\"319.57,-46.88 320.55,-36.33 313.2,-43.96 319.57,-46.88\"/>\n</g>\n<!-- 185 -->\n<g id=\"node10\" class=\"node\">\n<title>185</title>\n<polygon fill=\"#f6d4bc\" stroke=\"black\" points=\"619.5,-125 413.5,-125 413.5,-72 619.5,-72 619.5,-125\"/>\n<text text-anchor=\"middle\" x=\"516.5\" y=\"-109.8\" font-family=\"Helvetica,sans-Serif\" font-size=\"14.00\">Major_Axis_Length &lt;= 190.362</text>\n<text text-anchor=\"middle\" x=\"516.5\" y=\"-94.8\" font-family=\"Helvetica,sans-Serif\" font-size=\"14.00\">samples = 7.8%</text>\n<text text-anchor=\"middle\" x=\"516.5\" y=\"-79.8\" font-family=\"Helvetica,sans-Serif\" font-size=\"14.00\">value = [0.603, 0.397]</text>\n</g>\n<!-- 184&#45;&gt;185 -->\n<g id=\"edge9\" class=\"edge\">\n<title>184&#45;&gt;185</title>\n<path fill=\"none\" stroke=\"black\" d=\"M516.5,-160.87C516.5,-152.89 516.5,-143.93 516.5,-135.38\"/>\n<polygon fill=\"black\" stroke=\"black\" points=\"520,-135.25 516.5,-125.25 513,-135.25 520,-135.25\"/>\n</g>\n<!-- 282 -->\n<g id=\"node13\" class=\"node\">\n<title>282</title>\n<polygon fill=\"#e68641\" stroke=\"black\" points=\"785,-125 638,-125 638,-72 785,-72 785,-125\"/>\n<text text-anchor=\"middle\" x=\"711.5\" y=\"-109.8\" font-family=\"Helvetica,sans-Serif\" font-size=\"14.00\">Eccentricity &lt;= 0.876</text>\n<text text-anchor=\"middle\" x=\"711.5\" y=\"-94.8\" font-family=\"Helvetica,sans-Serif\" font-size=\"14.00\">samples = 34.2%</text>\n<text text-anchor=\"middle\" x=\"711.5\" y=\"-79.8\" font-family=\"Helvetica,sans-Serif\" font-size=\"14.00\">value = [0.963, 0.037]</text>\n</g>\n<!-- 184&#45;&gt;282 -->\n<g id=\"edge12\" class=\"edge\">\n<title>184&#45;&gt;282</title>\n<path fill=\"none\" stroke=\"black\" d=\"M573.69,-160.98C596.01,-151.03 621.76,-139.54 644.91,-129.21\"/>\n<polygon fill=\"black\" stroke=\"black\" points=\"646.61,-132.29 654.31,-125.01 643.75,-125.89 646.61,-132.29\"/>\n</g>\n<!-- 186 -->\n<g id=\"node11\" class=\"node\">\n<title>186</title>\n<polygon fill=\"#c0c0c0\" stroke=\"black\" points=\"507.5,-36 453.5,-36 453.5,0 507.5,0 507.5,-36\"/>\n<text text-anchor=\"middle\" x=\"480.5\" y=\"-14.3\" font-family=\"Helvetica,sans-Serif\" font-size=\"14.00\">(...)</text>\n</g>\n<!-- 185&#45;&gt;186 -->\n<g id=\"edge10\" class=\"edge\">\n<title>185&#45;&gt;186</title>\n<path fill=\"none\" stroke=\"black\" d=\"M504.71,-71.8C500.84,-63.35 496.53,-53.95 492.63,-45.45\"/>\n<polygon fill=\"black\" stroke=\"black\" points=\"495.8,-43.96 488.45,-36.33 489.43,-46.88 495.8,-43.96\"/>\n</g>\n<!-- 199 -->\n<g id=\"node12\" class=\"node\">\n<title>199</title>\n<polygon fill=\"#c0c0c0\" stroke=\"black\" points=\"579.5,-36 525.5,-36 525.5,0 579.5,0 579.5,-36\"/>\n<text text-anchor=\"middle\" x=\"552.5\" y=\"-14.3\" font-family=\"Helvetica,sans-Serif\" font-size=\"14.00\">(...)</text>\n</g>\n<!-- 185&#45;&gt;199 -->\n<g id=\"edge11\" class=\"edge\">\n<title>185&#45;&gt;199</title>\n<path fill=\"none\" stroke=\"black\" d=\"M528.29,-71.8C532.16,-63.35 536.47,-53.95 540.37,-45.45\"/>\n<polygon fill=\"black\" stroke=\"black\" points=\"543.57,-46.88 544.55,-36.33 537.2,-43.96 543.57,-46.88\"/>\n</g>\n<!-- 283 -->\n<g id=\"node14\" class=\"node\">\n<title>283</title>\n<polygon fill=\"#c0c0c0\" stroke=\"black\" points=\"702.5,-36 648.5,-36 648.5,0 702.5,0 702.5,-36\"/>\n<text text-anchor=\"middle\" x=\"675.5\" y=\"-14.3\" font-family=\"Helvetica,sans-Serif\" font-size=\"14.00\">(...)</text>\n</g>\n<!-- 282&#45;&gt;283 -->\n<g id=\"edge13\" class=\"edge\">\n<title>282&#45;&gt;283</title>\n<path fill=\"none\" stroke=\"black\" d=\"M699.71,-71.8C695.84,-63.35 691.53,-53.95 687.63,-45.45\"/>\n<polygon fill=\"black\" stroke=\"black\" points=\"690.8,-43.96 683.45,-36.33 684.43,-46.88 690.8,-43.96\"/>\n</g>\n<!-- 290 -->\n<g id=\"node15\" class=\"node\">\n<title>290</title>\n<polygon fill=\"#c0c0c0\" stroke=\"black\" points=\"774.5,-36 720.5,-36 720.5,0 774.5,0 774.5,-36\"/>\n<text text-anchor=\"middle\" x=\"747.5\" y=\"-14.3\" font-family=\"Helvetica,sans-Serif\" font-size=\"14.00\">(...)</text>\n</g>\n<!-- 282&#45;&gt;290 -->\n<g id=\"edge14\" class=\"edge\">\n<title>282&#45;&gt;290</title>\n<path fill=\"none\" stroke=\"black\" d=\"M723.29,-71.8C727.16,-63.35 731.47,-53.95 735.37,-45.45\"/>\n<polygon fill=\"black\" stroke=\"black\" points=\"738.57,-46.88 739.55,-36.33 732.2,-43.96 738.57,-46.88\"/>\n</g>\n</g>\n</svg>\n",
            "text/plain": [
              "<graphviz.sources.Source at 0x7f740608f610>"
            ]
          },
          "metadata": {}
        },
        {
          "output_type": "display_data",
          "data": {
            "image/svg+xml": "<?xml version=\"1.0\" encoding=\"UTF-8\" standalone=\"no\"?>\n<!DOCTYPE svg PUBLIC \"-//W3C//DTD SVG 1.1//EN\"\n \"http://www.w3.org/Graphics/SVG/1.1/DTD/svg11.dtd\">\n<!-- Generated by graphviz version 2.43.0 (0)\n -->\n<!-- Title: Tree Pages: 1 -->\n<svg width=\"782pt\" height=\"311pt\"\n viewBox=\"0.00 0.00 782.00 311.00\" xmlns=\"http://www.w3.org/2000/svg\" xmlns:xlink=\"http://www.w3.org/1999/xlink\">\n<g id=\"graph0\" class=\"graph\" transform=\"scale(1 1) rotate(0) translate(4 307)\">\n<title>Tree</title>\n<polygon fill=\"white\" stroke=\"transparent\" points=\"-4,4 -4,-307 778,-307 778,4 -4,4\"/>\n<!-- 0 -->\n<g id=\"node1\" class=\"node\">\n<title>0</title>\n<polygon fill=\"#cae5f8\" stroke=\"black\" points=\"498.5,-303 292.5,-303 292.5,-250 498.5,-250 498.5,-303\"/>\n<text text-anchor=\"middle\" x=\"395.5\" y=\"-287.8\" font-family=\"Helvetica,sans-Serif\" font-size=\"14.00\">Major_Axis_Length &lt;= 191.142</text>\n<text text-anchor=\"middle\" x=\"395.5\" y=\"-272.8\" font-family=\"Helvetica,sans-Serif\" font-size=\"14.00\">samples = 100.0%</text>\n<text text-anchor=\"middle\" x=\"395.5\" y=\"-257.8\" font-family=\"Helvetica,sans-Serif\" font-size=\"14.00\">value = [0.423, 0.577]</text>\n</g>\n<!-- 1 -->\n<g id=\"node2\" class=\"node\">\n<title>1</title>\n<polygon fill=\"#45a3e7\" stroke=\"black\" points=\"366,-214 219,-214 219,-161 366,-161 366,-214\"/>\n<text text-anchor=\"middle\" x=\"292.5\" y=\"-198.8\" font-family=\"Helvetica,sans-Serif\" font-size=\"14.00\">Eccentricity &lt;= 0.883</text>\n<text text-anchor=\"middle\" x=\"292.5\" y=\"-183.8\" font-family=\"Helvetica,sans-Serif\" font-size=\"14.00\">samples = 56.7%</text>\n<text text-anchor=\"middle\" x=\"292.5\" y=\"-168.8\" font-family=\"Helvetica,sans-Serif\" font-size=\"14.00\">value = [0.059, 0.941]</text>\n</g>\n<!-- 0&#45;&gt;1 -->\n<g id=\"edge1\" class=\"edge\">\n<title>0&#45;&gt;1</title>\n<path fill=\"none\" stroke=\"black\" d=\"M365.15,-249.87C354.35,-240.75 342.05,-230.35 330.68,-220.75\"/>\n<polygon fill=\"black\" stroke=\"black\" points=\"332.88,-218.03 322.99,-214.25 328.37,-223.38 332.88,-218.03\"/>\n<text text-anchor=\"middle\" x=\"325.08\" y=\"-235.46\" font-family=\"Helvetica,sans-Serif\" font-size=\"14.00\">True</text>\n</g>\n<!-- 164 -->\n<g id=\"node9\" class=\"node\">\n<title>164</title>\n<polygon fill=\"#e88e4d\" stroke=\"black\" points=\"602.5,-214 396.5,-214 396.5,-161 602.5,-161 602.5,-214\"/>\n<text text-anchor=\"middle\" x=\"499.5\" y=\"-198.8\" font-family=\"Helvetica,sans-Serif\" font-size=\"14.00\">Major_Axis_Length &lt;= 198.523</text>\n<text text-anchor=\"middle\" x=\"499.5\" y=\"-183.8\" font-family=\"Helvetica,sans-Serif\" font-size=\"14.00\">samples = 43.3%</text>\n<text text-anchor=\"middle\" x=\"499.5\" y=\"-168.8\" font-family=\"Helvetica,sans-Serif\" font-size=\"14.00\">value = [0.908, 0.092]</text>\n</g>\n<!-- 0&#45;&gt;164 -->\n<g id=\"edge8\" class=\"edge\">\n<title>0&#45;&gt;164</title>\n<path fill=\"none\" stroke=\"black\" d=\"M426.14,-249.87C437.05,-240.75 449.47,-230.35 460.95,-220.75\"/>\n<polygon fill=\"black\" stroke=\"black\" points=\"463.29,-223.35 468.72,-214.25 458.8,-217.98 463.29,-223.35\"/>\n<text text-anchor=\"middle\" x=\"466.5\" y=\"-235.45\" font-family=\"Helvetica,sans-Serif\" font-size=\"14.00\">False</text>\n</g>\n<!-- 2 -->\n<g id=\"node3\" class=\"node\">\n<title>2</title>\n<polygon fill=\"#3e9fe6\" stroke=\"black\" points=\"171,-125 0,-125 0,-72 171,-72 171,-125\"/>\n<text text-anchor=\"middle\" x=\"85.5\" y=\"-109.8\" font-family=\"Helvetica,sans-Serif\" font-size=\"14.00\">Convex_Area &lt;= 13554.5</text>\n<text text-anchor=\"middle\" x=\"85.5\" y=\"-94.8\" font-family=\"Helvetica,sans-Serif\" font-size=\"14.00\">samples = 38.1%</text>\n<text text-anchor=\"middle\" x=\"85.5\" y=\"-79.8\" font-family=\"Helvetica,sans-Serif\" font-size=\"14.00\">value = [0.024, 0.976]</text>\n</g>\n<!-- 1&#45;&gt;2 -->\n<g id=\"edge2\" class=\"edge\">\n<title>1&#45;&gt;2</title>\n<path fill=\"none\" stroke=\"black\" d=\"M231.79,-160.98C207.89,-150.94 180.28,-139.34 155.54,-128.94\"/>\n<polygon fill=\"black\" stroke=\"black\" points=\"156.78,-125.66 146.21,-125.01 154.07,-132.12 156.78,-125.66\"/>\n</g>\n<!-- 53 -->\n<g id=\"node6\" class=\"node\">\n<title>53</title>\n<polygon fill=\"#55abe9\" stroke=\"black\" points=\"395.5,-125 189.5,-125 189.5,-72 395.5,-72 395.5,-125\"/>\n<text text-anchor=\"middle\" x=\"292.5\" y=\"-109.8\" font-family=\"Helvetica,sans-Serif\" font-size=\"14.00\">Major_Axis_Length &lt;= 183.989</text>\n<text text-anchor=\"middle\" x=\"292.5\" y=\"-94.8\" font-family=\"Helvetica,sans-Serif\" font-size=\"14.00\">samples = 18.6%</text>\n<text text-anchor=\"middle\" x=\"292.5\" y=\"-79.8\" font-family=\"Helvetica,sans-Serif\" font-size=\"14.00\">value = [0.123, 0.877]</text>\n</g>\n<!-- 1&#45;&gt;53 -->\n<g id=\"edge5\" class=\"edge\">\n<title>1&#45;&gt;53</title>\n<path fill=\"none\" stroke=\"black\" d=\"M292.5,-160.87C292.5,-152.89 292.5,-143.93 292.5,-135.38\"/>\n<polygon fill=\"black\" stroke=\"black\" points=\"296,-135.25 292.5,-125.25 289,-135.25 296,-135.25\"/>\n</g>\n<!-- 3 -->\n<g id=\"node4\" class=\"node\">\n<title>3</title>\n<polygon fill=\"#c0c0c0\" stroke=\"black\" points=\"76.5,-36 22.5,-36 22.5,0 76.5,0 76.5,-36\"/>\n<text text-anchor=\"middle\" x=\"49.5\" y=\"-14.3\" font-family=\"Helvetica,sans-Serif\" font-size=\"14.00\">(...)</text>\n</g>\n<!-- 2&#45;&gt;3 -->\n<g id=\"edge3\" class=\"edge\">\n<title>2&#45;&gt;3</title>\n<path fill=\"none\" stroke=\"black\" d=\"M73.71,-71.8C69.84,-63.35 65.53,-53.95 61.63,-45.45\"/>\n<polygon fill=\"black\" stroke=\"black\" points=\"64.8,-43.96 57.45,-36.33 58.43,-46.88 64.8,-43.96\"/>\n</g>\n<!-- 32 -->\n<g id=\"node5\" class=\"node\">\n<title>32</title>\n<polygon fill=\"#c0c0c0\" stroke=\"black\" points=\"148.5,-36 94.5,-36 94.5,0 148.5,0 148.5,-36\"/>\n<text text-anchor=\"middle\" x=\"121.5\" y=\"-14.3\" font-family=\"Helvetica,sans-Serif\" font-size=\"14.00\">(...)</text>\n</g>\n<!-- 2&#45;&gt;32 -->\n<g id=\"edge4\" class=\"edge\">\n<title>2&#45;&gt;32</title>\n<path fill=\"none\" stroke=\"black\" d=\"M97.29,-71.8C101.16,-63.35 105.47,-53.95 109.37,-45.45\"/>\n<polygon fill=\"black\" stroke=\"black\" points=\"112.57,-46.88 113.55,-36.33 106.2,-43.96 112.57,-46.88\"/>\n</g>\n<!-- 54 -->\n<g id=\"node7\" class=\"node\">\n<title>54</title>\n<polygon fill=\"#c0c0c0\" stroke=\"black\" points=\"299.5,-36 245.5,-36 245.5,0 299.5,0 299.5,-36\"/>\n<text text-anchor=\"middle\" x=\"272.5\" y=\"-14.3\" font-family=\"Helvetica,sans-Serif\" font-size=\"14.00\">(...)</text>\n</g>\n<!-- 53&#45;&gt;54 -->\n<g id=\"edge6\" class=\"edge\">\n<title>53&#45;&gt;54</title>\n<path fill=\"none\" stroke=\"black\" d=\"M285.95,-71.8C283.87,-63.62 281.56,-54.55 279.45,-46.27\"/>\n<polygon fill=\"black\" stroke=\"black\" points=\"282.78,-45.16 276.92,-36.33 275.99,-46.88 282.78,-45.16\"/>\n</g>\n<!-- 83 -->\n<g id=\"node8\" class=\"node\">\n<title>83</title>\n<polygon fill=\"#c0c0c0\" stroke=\"black\" points=\"371.5,-36 317.5,-36 317.5,0 371.5,0 371.5,-36\"/>\n<text text-anchor=\"middle\" x=\"344.5\" y=\"-14.3\" font-family=\"Helvetica,sans-Serif\" font-size=\"14.00\">(...)</text>\n</g>\n<!-- 53&#45;&gt;83 -->\n<g id=\"edge7\" class=\"edge\">\n<title>53&#45;&gt;83</title>\n<path fill=\"none\" stroke=\"black\" d=\"M309.53,-71.8C315.24,-63.17 321.62,-53.54 327.34,-44.9\"/>\n<polygon fill=\"black\" stroke=\"black\" points=\"330.42,-46.6 333.02,-36.33 324.58,-42.73 330.42,-46.6\"/>\n</g>\n<!-- 165 -->\n<g id=\"node10\" class=\"node\">\n<title>165</title>\n<polygon fill=\"#f0b990\" stroke=\"black\" points=\"585,-125 414,-125 414,-72 585,-72 585,-125\"/>\n<text text-anchor=\"middle\" x=\"499.5\" y=\"-109.8\" font-family=\"Helvetica,sans-Serif\" font-size=\"14.00\">Convex_Area &lt;= 13597.5</text>\n<text text-anchor=\"middle\" x=\"499.5\" y=\"-94.8\" font-family=\"Helvetica,sans-Serif\" font-size=\"14.00\">samples = 10.4%</text>\n<text text-anchor=\"middle\" x=\"499.5\" y=\"-79.8\" font-family=\"Helvetica,sans-Serif\" font-size=\"14.00\">value = [0.694, 0.306]</text>\n</g>\n<!-- 164&#45;&gt;165 -->\n<g id=\"edge9\" class=\"edge\">\n<title>164&#45;&gt;165</title>\n<path fill=\"none\" stroke=\"black\" d=\"M499.5,-160.87C499.5,-152.89 499.5,-143.93 499.5,-135.38\"/>\n<polygon fill=\"black\" stroke=\"black\" points=\"503,-135.25 499.5,-125.25 496,-135.25 503,-135.25\"/>\n</g>\n<!-- 278 -->\n<g id=\"node13\" class=\"node\">\n<title>278</title>\n<polygon fill=\"#e6843e\" stroke=\"black\" points=\"774,-125 603,-125 603,-72 774,-72 774,-125\"/>\n<text text-anchor=\"middle\" x=\"688.5\" y=\"-109.8\" font-family=\"Helvetica,sans-Serif\" font-size=\"14.00\">Convex_Area &lt;= 14162.0</text>\n<text text-anchor=\"middle\" x=\"688.5\" y=\"-94.8\" font-family=\"Helvetica,sans-Serif\" font-size=\"14.00\">samples = 32.9%</text>\n<text text-anchor=\"middle\" x=\"688.5\" y=\"-79.8\" font-family=\"Helvetica,sans-Serif\" font-size=\"14.00\">value = [0.977, 0.023]</text>\n</g>\n<!-- 164&#45;&gt;278 -->\n<g id=\"edge12\" class=\"edge\">\n<title>164&#45;&gt;278</title>\n<path fill=\"none\" stroke=\"black\" d=\"M554.93,-160.98C576.56,-151.03 601.52,-139.54 623.96,-129.21\"/>\n<polygon fill=\"black\" stroke=\"black\" points=\"625.45,-132.38 633.07,-125.01 622.52,-126.02 625.45,-132.38\"/>\n</g>\n<!-- 166 -->\n<g id=\"node11\" class=\"node\">\n<title>166</title>\n<polygon fill=\"#c0c0c0\" stroke=\"black\" points=\"474.5,-36 420.5,-36 420.5,0 474.5,0 474.5,-36\"/>\n<text text-anchor=\"middle\" x=\"447.5\" y=\"-14.3\" font-family=\"Helvetica,sans-Serif\" font-size=\"14.00\">(...)</text>\n</g>\n<!-- 165&#45;&gt;166 -->\n<g id=\"edge10\" class=\"edge\">\n<title>165&#45;&gt;166</title>\n<path fill=\"none\" stroke=\"black\" d=\"M482.47,-71.8C476.76,-63.17 470.38,-53.54 464.66,-44.9\"/>\n<polygon fill=\"black\" stroke=\"black\" points=\"467.42,-42.73 458.98,-36.33 461.58,-46.6 467.42,-42.73\"/>\n</g>\n<!-- 251 -->\n<g id=\"node12\" class=\"node\">\n<title>251</title>\n<polygon fill=\"#c0c0c0\" stroke=\"black\" points=\"546.5,-36 492.5,-36 492.5,0 546.5,0 546.5,-36\"/>\n<text text-anchor=\"middle\" x=\"519.5\" y=\"-14.3\" font-family=\"Helvetica,sans-Serif\" font-size=\"14.00\">(...)</text>\n</g>\n<!-- 165&#45;&gt;251 -->\n<g id=\"edge11\" class=\"edge\">\n<title>165&#45;&gt;251</title>\n<path fill=\"none\" stroke=\"black\" d=\"M506.05,-71.8C508.13,-63.62 510.44,-54.55 512.55,-46.27\"/>\n<polygon fill=\"black\" stroke=\"black\" points=\"516.01,-46.88 515.08,-36.33 509.22,-45.16 516.01,-46.88\"/>\n</g>\n<!-- 279 -->\n<g id=\"node14\" class=\"node\">\n<title>279</title>\n<polygon fill=\"#c0c0c0\" stroke=\"black\" points=\"679.5,-36 625.5,-36 625.5,0 679.5,0 679.5,-36\"/>\n<text text-anchor=\"middle\" x=\"652.5\" y=\"-14.3\" font-family=\"Helvetica,sans-Serif\" font-size=\"14.00\">(...)</text>\n</g>\n<!-- 278&#45;&gt;279 -->\n<g id=\"edge13\" class=\"edge\">\n<title>278&#45;&gt;279</title>\n<path fill=\"none\" stroke=\"black\" d=\"M676.71,-71.8C672.84,-63.35 668.53,-53.95 664.63,-45.45\"/>\n<polygon fill=\"black\" stroke=\"black\" points=\"667.8,-43.96 660.45,-36.33 661.43,-46.88 667.8,-43.96\"/>\n</g>\n<!-- 326 -->\n<g id=\"node15\" class=\"node\">\n<title>326</title>\n<polygon fill=\"#c0c0c0\" stroke=\"black\" points=\"751.5,-36 697.5,-36 697.5,0 751.5,0 751.5,-36\"/>\n<text text-anchor=\"middle\" x=\"724.5\" y=\"-14.3\" font-family=\"Helvetica,sans-Serif\" font-size=\"14.00\">(...)</text>\n</g>\n<!-- 278&#45;&gt;326 -->\n<g id=\"edge14\" class=\"edge\">\n<title>278&#45;&gt;326</title>\n<path fill=\"none\" stroke=\"black\" d=\"M700.29,-71.8C704.16,-63.35 708.47,-53.95 712.37,-45.45\"/>\n<polygon fill=\"black\" stroke=\"black\" points=\"715.57,-46.88 716.55,-36.33 709.2,-43.96 715.57,-46.88\"/>\n</g>\n</g>\n</svg>\n",
            "text/plain": [
              "<graphviz.sources.Source at 0x7f7406d93520>"
            ]
          },
          "metadata": {}
        }
      ]
    },
    {
      "cell_type": "code",
      "source": [
        "from sklearn.model_selection import RandomizedSearchCV, train_test_split\n",
        "from scipy.stats import randint\n",
        "\n",
        "param_dist = {'n_estimators': randint(50,500),\n",
        "              'max_depth': randint(1,20)}\n",
        "\n",
        "# Create a random forest classifier\n",
        "rf_classifier = RandomForestClassifier()\n",
        "\n",
        "# Use random search to find the best hyperparameters\n",
        "rand_search = RandomizedSearchCV(rf_classifier,\n",
        "                                 param_distributions = param_dist,\n",
        "                                 n_iter=5,\n",
        "                                 cv=5)\n",
        "\n",
        "# Fit the random search object to the data\n",
        "rand_search.fit(X_train, y_train)"
      ],
      "metadata": {
        "colab": {
          "base_uri": "https://localhost:8080/",
          "height": 116
        },
        "id": "nkvtjbrc-ER3",
        "outputId": "d2d0f8c4-49d2-4883-c6a6-98d35103a44a"
      },
      "execution_count": null,
      "outputs": [
        {
          "output_type": "execute_result",
          "data": {
            "text/plain": [
              "RandomizedSearchCV(cv=5, estimator=RandomForestClassifier(), n_iter=5,\n",
              "                   param_distributions={'max_depth': <scipy.stats._distn_infrastructure.rv_discrete_frozen object at 0x7f73cce11960>,\n",
              "                                        'n_estimators': <scipy.stats._distn_infrastructure.rv_discrete_frozen object at 0x7f73cce10c10>})"
            ],
            "text/html": [
              "<style>#sk-container-id-2 {color: black;background-color: white;}#sk-container-id-2 pre{padding: 0;}#sk-container-id-2 div.sk-toggleable {background-color: white;}#sk-container-id-2 label.sk-toggleable__label {cursor: pointer;display: block;width: 100%;margin-bottom: 0;padding: 0.3em;box-sizing: border-box;text-align: center;}#sk-container-id-2 label.sk-toggleable__label-arrow:before {content: \"▸\";float: left;margin-right: 0.25em;color: #696969;}#sk-container-id-2 label.sk-toggleable__label-arrow:hover:before {color: black;}#sk-container-id-2 div.sk-estimator:hover label.sk-toggleable__label-arrow:before {color: black;}#sk-container-id-2 div.sk-toggleable__content {max-height: 0;max-width: 0;overflow: hidden;text-align: left;background-color: #f0f8ff;}#sk-container-id-2 div.sk-toggleable__content pre {margin: 0.2em;color: black;border-radius: 0.25em;background-color: #f0f8ff;}#sk-container-id-2 input.sk-toggleable__control:checked~div.sk-toggleable__content {max-height: 200px;max-width: 100%;overflow: auto;}#sk-container-id-2 input.sk-toggleable__control:checked~label.sk-toggleable__label-arrow:before {content: \"▾\";}#sk-container-id-2 div.sk-estimator input.sk-toggleable__control:checked~label.sk-toggleable__label {background-color: #d4ebff;}#sk-container-id-2 div.sk-label input.sk-toggleable__control:checked~label.sk-toggleable__label {background-color: #d4ebff;}#sk-container-id-2 input.sk-hidden--visually {border: 0;clip: rect(1px 1px 1px 1px);clip: rect(1px, 1px, 1px, 1px);height: 1px;margin: -1px;overflow: hidden;padding: 0;position: absolute;width: 1px;}#sk-container-id-2 div.sk-estimator {font-family: monospace;background-color: #f0f8ff;border: 1px dotted black;border-radius: 0.25em;box-sizing: border-box;margin-bottom: 0.5em;}#sk-container-id-2 div.sk-estimator:hover {background-color: #d4ebff;}#sk-container-id-2 div.sk-parallel-item::after {content: \"\";width: 100%;border-bottom: 1px solid gray;flex-grow: 1;}#sk-container-id-2 div.sk-label:hover label.sk-toggleable__label {background-color: #d4ebff;}#sk-container-id-2 div.sk-serial::before {content: \"\";position: absolute;border-left: 1px solid gray;box-sizing: border-box;top: 0;bottom: 0;left: 50%;z-index: 0;}#sk-container-id-2 div.sk-serial {display: flex;flex-direction: column;align-items: center;background-color: white;padding-right: 0.2em;padding-left: 0.2em;position: relative;}#sk-container-id-2 div.sk-item {position: relative;z-index: 1;}#sk-container-id-2 div.sk-parallel {display: flex;align-items: stretch;justify-content: center;background-color: white;position: relative;}#sk-container-id-2 div.sk-item::before, #sk-container-id-2 div.sk-parallel-item::before {content: \"\";position: absolute;border-left: 1px solid gray;box-sizing: border-box;top: 0;bottom: 0;left: 50%;z-index: -1;}#sk-container-id-2 div.sk-parallel-item {display: flex;flex-direction: column;z-index: 1;position: relative;background-color: white;}#sk-container-id-2 div.sk-parallel-item:first-child::after {align-self: flex-end;width: 50%;}#sk-container-id-2 div.sk-parallel-item:last-child::after {align-self: flex-start;width: 50%;}#sk-container-id-2 div.sk-parallel-item:only-child::after {width: 0;}#sk-container-id-2 div.sk-dashed-wrapped {border: 1px dashed gray;margin: 0 0.4em 0.5em 0.4em;box-sizing: border-box;padding-bottom: 0.4em;background-color: white;}#sk-container-id-2 div.sk-label label {font-family: monospace;font-weight: bold;display: inline-block;line-height: 1.2em;}#sk-container-id-2 div.sk-label-container {text-align: center;}#sk-container-id-2 div.sk-container {/* jupyter's `normalize.less` sets `[hidden] { display: none; }` but bootstrap.min.css set `[hidden] { display: none !important; }` so we also need the `!important` here to be able to override the default hidden behavior on the sphinx rendered scikit-learn.org. See: https://github.com/scikit-learn/scikit-learn/issues/21755 */display: inline-block !important;position: relative;}#sk-container-id-2 div.sk-text-repr-fallback {display: none;}</style><div id=\"sk-container-id-2\" class=\"sk-top-container\"><div class=\"sk-text-repr-fallback\"><pre>RandomizedSearchCV(cv=5, estimator=RandomForestClassifier(), n_iter=5,\n",
              "                   param_distributions={&#x27;max_depth&#x27;: &lt;scipy.stats._distn_infrastructure.rv_discrete_frozen object at 0x7f73cce11960&gt;,\n",
              "                                        &#x27;n_estimators&#x27;: &lt;scipy.stats._distn_infrastructure.rv_discrete_frozen object at 0x7f73cce10c10&gt;})</pre><b>In a Jupyter environment, please rerun this cell to show the HTML representation or trust the notebook. <br />On GitHub, the HTML representation is unable to render, please try loading this page with nbviewer.org.</b></div><div class=\"sk-container\" hidden><div class=\"sk-item sk-dashed-wrapped\"><div class=\"sk-label-container\"><div class=\"sk-label sk-toggleable\"><input class=\"sk-toggleable__control sk-hidden--visually\" id=\"sk-estimator-id-2\" type=\"checkbox\" ><label for=\"sk-estimator-id-2\" class=\"sk-toggleable__label sk-toggleable__label-arrow\">RandomizedSearchCV</label><div class=\"sk-toggleable__content\"><pre>RandomizedSearchCV(cv=5, estimator=RandomForestClassifier(), n_iter=5,\n",
              "                   param_distributions={&#x27;max_depth&#x27;: &lt;scipy.stats._distn_infrastructure.rv_discrete_frozen object at 0x7f73cce11960&gt;,\n",
              "                                        &#x27;n_estimators&#x27;: &lt;scipy.stats._distn_infrastructure.rv_discrete_frozen object at 0x7f73cce10c10&gt;})</pre></div></div></div><div class=\"sk-parallel\"><div class=\"sk-parallel-item\"><div class=\"sk-item\"><div class=\"sk-label-container\"><div class=\"sk-label sk-toggleable\"><input class=\"sk-toggleable__control sk-hidden--visually\" id=\"sk-estimator-id-3\" type=\"checkbox\" ><label for=\"sk-estimator-id-3\" class=\"sk-toggleable__label sk-toggleable__label-arrow\">estimator: RandomForestClassifier</label><div class=\"sk-toggleable__content\"><pre>RandomForestClassifier()</pre></div></div></div><div class=\"sk-serial\"><div class=\"sk-item\"><div class=\"sk-estimator sk-toggleable\"><input class=\"sk-toggleable__control sk-hidden--visually\" id=\"sk-estimator-id-4\" type=\"checkbox\" ><label for=\"sk-estimator-id-4\" class=\"sk-toggleable__label sk-toggleable__label-arrow\">RandomForestClassifier</label><div class=\"sk-toggleable__content\"><pre>RandomForestClassifier()</pre></div></div></div></div></div></div></div></div></div></div>"
            ]
          },
          "metadata": {},
          "execution_count": 18
        }
      ]
    },
    {
      "cell_type": "code",
      "source": [
        "# Create a variable for the best model\n",
        "best_rf = rand_search.best_estimator_\n",
        "\n",
        "# Print the best hyperparameters\n",
        "print('Best hyperparameters:',  rand_search.best_params_)"
      ],
      "metadata": {
        "colab": {
          "base_uri": "https://localhost:8080/"
        },
        "id": "8cQnvWGm-zCJ",
        "outputId": "44c0b053-2f75-40b6-efe5-1ca4dae72657"
      },
      "execution_count": null,
      "outputs": [
        {
          "output_type": "stream",
          "name": "stdout",
          "text": [
            "Best hyperparameters: {'max_depth': 7, 'n_estimators': 455}\n"
          ]
        }
      ]
    },
    {
      "cell_type": "code",
      "source": [
        "# Generate predictions with the best model\n",
        "y_pred = best_rf.predict(X_test)\n",
        "\n",
        "# Create the confusion matrix\n",
        "cm = confusion_matrix(y_test, y_pred)\n",
        "\n",
        "ConfusionMatrixDisplay(confusion_matrix=cm).plot();"
      ],
      "metadata": {
        "colab": {
          "base_uri": "https://localhost:8080/",
          "height": 449
        },
        "id": "cJwq9Ire-14y",
        "outputId": "5e661fc1-f1dc-44e9-eb61-bd96860a218f"
      },
      "execution_count": null,
      "outputs": [
        {
          "output_type": "display_data",
          "data": {
            "text/plain": [
              "<Figure size 640x480 with 2 Axes>"
            ],
            "image/png": "[encoded data removed]"
          },
          "metadata": {}
        }
      ]
    },
    {
      "cell_type": "code",
      "source": [
        "\n",
        "y_pred = best_rf.predict(X_test)\n",
        "\n",
        "# Calculate the evaluation metrics\n",
        "confusion_mat = confusion_matrix(y_test, y_pred, labels=['Cammeo', 'Osmancik'])\n",
        "accuracy = accuracy_score(y_test, y_pred)\n",
        "precision = precision_score(y_test, y_pred, pos_label='Cammeo')\n",
        "recall = recall_score(y_test, y_pred, pos_label='Cammeo')\n",
        "f1 = f1_score(y_test, y_pred, pos_label='Cammeo')\n",
        "\n",
        "# Print the evaluation metrics\n",
        "print(\"Confusion Matrix:\\n\", confusion_mat)\n",
        "print(\"Accuracy:\", accuracy)\n",
        "print(\"Precision:\", precision)\n",
        "print(\"Sensitivity:\", recall)\n",
        "print(\"F1 Score:\", f1)"
      ],
      "metadata": {
        "colab": {
          "base_uri": "https://localhost:8080/"
        },
        "id": "zmBC6vPBAO5e",
        "outputId": "7e8c6cb3-aa2e-4f2d-98fd-300b46460936"
      },
      "execution_count": null,
      "outputs": [
        {
          "output_type": "stream",
          "name": "stdout",
          "text": [
            "Confusion Matrix:\n",
            " [[319  31]\n",
            " [ 25 387]]\n",
            "Accuracy: 0.926509186351706\n",
            "Precision: 0.9273255813953488\n",
            "Sensitivity: 0.9114285714285715\n",
            "F1 Score: 0.9193083573487031\n"
          ]
        }
      ]
    },
    {
      "cell_type": "code",
      "source": [
        "# Create a series containing feature importances from the model and feature names from the training data\n",
        "feature_importances = pd.Series(best_rf.feature_importances_, index=X_train.columns).sort_values(ascending=False)\n",
        "\n",
        "# Plot a simple bar chart\n",
        "feature_importances.plot.bar();"
      ],
      "metadata": {
        "colab": {
          "base_uri": "https://localhost:8080/",
          "height": 545
        },
        "id": "AD65bt_yDzaD",
        "outputId": "59c841ae-e7b5-4ece-9148-23a36f70d3a6"
      },
      "execution_count": null,
      "outputs": [
        {
          "output_type": "display_data",
          "data": {
            "text/plain": [
              "<Figure size 640x480 with 1 Axes>"
            ],
            "image/png": "[encoded data removed]"
          },
          "metadata": {}
        }
      ]
    }
  ]
}